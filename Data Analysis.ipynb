{
 "cells": [
  {
   "cell_type": "code",
   "execution_count": 17,
   "metadata": {
    "collapsed": true
   },
   "outputs": [],
   "source": [
    "import numpy as np\n",
    "import pandas as pd\n",
    "import pickle as pkl\n",
    "from sklearn import preprocessing, linear_model\n",
    "from sklearn.model_selection import train_test_split\n",
    "from sklearn.metrics import mean_squared_error, r2_score\n",
    "\n",
    "from sklearn.preprocessing import PolynomialFeatures\n",
    "# Import Linear Regression and a regularized regression function\n",
    "from sklearn.linear_model import LinearRegression\n",
    "from sklearn.linear_model import LassoCV\n",
    "# Finally, import function to make a machine learning pipeline\n",
    "from sklearn.pipeline import make_pipeline\n",
    "from sklearn.ensemble import ExtraTreesClassifier\n"
   ]
  },
  {
   "cell_type": "markdown",
   "metadata": {},
   "source": [
    "## Load Data"
   ]
  },
  {
   "cell_type": "code",
   "execution_count": 6,
   "metadata": {},
   "outputs": [
    {
     "name": "stdout",
     "output_type": "stream",
     "text": [
      "Training Data:(1212, 888)\n",
      "Test Data:(776, 888)\n"
     ]
    },
    {
     "data": {
      "text/html": [
       "<div>\n",
       "<style>\n",
       "    .dataframe thead tr:only-child th {\n",
       "        text-align: right;\n",
       "    }\n",
       "\n",
       "    .dataframe thead th {\n",
       "        text-align: left;\n",
       "    }\n",
       "\n",
       "    .dataframe tbody tr th {\n",
       "        vertical-align: top;\n",
       "    }\n",
       "</style>\n",
       "<table border=\"1\" class=\"dataframe\">\n",
       "  <thead>\n",
       "    <tr style=\"text-align: right;\">\n",
       "      <th></th>\n",
       "      <th>id</th>\n",
       "      <th>y</th>\n",
       "    </tr>\n",
       "  </thead>\n",
       "  <tbody>\n",
       "    <tr>\n",
       "      <th>0</th>\n",
       "      <td>0.0</td>\n",
       "      <td>75.0</td>\n",
       "    </tr>\n",
       "    <tr>\n",
       "      <th>1</th>\n",
       "      <td>1.0</td>\n",
       "      <td>76.0</td>\n",
       "    </tr>\n",
       "  </tbody>\n",
       "</table>\n",
       "</div>"
      ],
      "text/plain": [
       "    id     y\n",
       "0  0.0  75.0\n",
       "1  1.0  76.0"
      ]
     },
     "execution_count": 6,
     "metadata": {},
     "output_type": "execute_result"
    }
   ],
   "source": [
    "X = pd.read_csv('X_train.csv')\n",
    "Y = pd.read_csv('Y_train.csv')\n",
    "X_test = pd.read_csv('X_test.csv')\n",
    "\n",
    "print(\"Training Data:{}\".format(X.shape))\n",
    "print(\"Test Data:{}\".format(X_test.shape))\n",
    "\n",
    "Y.head(2)\n"
   ]
  },
  {
   "cell_type": "code",
   "execution_count": 7,
   "metadata": {},
   "outputs": [
    {
     "data": {
      "text/plain": [
       "count    1212.000000\n",
       "mean       69.763201\n",
       "std         9.941656\n",
       "min        42.000000\n",
       "25%        64.000000\n",
       "50%        70.000000\n",
       "75%        76.000000\n",
       "max        96.000000\n",
       "Name: y, dtype: float64"
      ]
     },
     "execution_count": 7,
     "metadata": {},
     "output_type": "execute_result"
    }
   ],
   "source": [
    "Y['y'].describe()"
   ]
  },
  {
   "cell_type": "code",
   "execution_count": 8,
   "metadata": {},
   "outputs": [
    {
     "data": {
      "text/html": [
       "<div>\n",
       "<style>\n",
       "    .dataframe thead tr:only-child th {\n",
       "        text-align: right;\n",
       "    }\n",
       "\n",
       "    .dataframe thead th {\n",
       "        text-align: left;\n",
       "    }\n",
       "\n",
       "    .dataframe tbody tr th {\n",
       "        vertical-align: top;\n",
       "    }\n",
       "</style>\n",
       "<table border=\"1\" class=\"dataframe\">\n",
       "  <thead>\n",
       "    <tr style=\"text-align: right;\">\n",
       "      <th></th>\n",
       "      <th>id</th>\n",
       "      <th>x0</th>\n",
       "      <th>x1</th>\n",
       "      <th>x2</th>\n",
       "      <th>x3</th>\n",
       "      <th>x4</th>\n",
       "      <th>x5</th>\n",
       "      <th>x6</th>\n",
       "      <th>x7</th>\n",
       "      <th>x8</th>\n",
       "      <th>...</th>\n",
       "      <th>x877</th>\n",
       "      <th>x878</th>\n",
       "      <th>x879</th>\n",
       "      <th>x880</th>\n",
       "      <th>x881</th>\n",
       "      <th>x882</th>\n",
       "      <th>x883</th>\n",
       "      <th>x884</th>\n",
       "      <th>x885</th>\n",
       "      <th>x886</th>\n",
       "    </tr>\n",
       "  </thead>\n",
       "  <tbody>\n",
       "    <tr>\n",
       "      <th>count</th>\n",
       "      <td>1212.000000</td>\n",
       "      <td>1122.000000</td>\n",
       "      <td>1.140000e+03</td>\n",
       "      <td>1.132000e+03</td>\n",
       "      <td>1123.000000</td>\n",
       "      <td>1133.000000</td>\n",
       "      <td>1126.000000</td>\n",
       "      <td>1141.000000</td>\n",
       "      <td>1122.000000</td>\n",
       "      <td>1122.000000</td>\n",
       "      <td>...</td>\n",
       "      <td>1.127000e+03</td>\n",
       "      <td>1.127000e+03</td>\n",
       "      <td>1.132000e+03</td>\n",
       "      <td>1127.000000</td>\n",
       "      <td>1.125000e+03</td>\n",
       "      <td>1127.000000</td>\n",
       "      <td>1148.000000</td>\n",
       "      <td>1126.000000</td>\n",
       "      <td>1123.000000</td>\n",
       "      <td>1111.000000</td>\n",
       "    </tr>\n",
       "    <tr>\n",
       "      <th>mean</th>\n",
       "      <td>605.500000</td>\n",
       "      <td>7300.504957</td>\n",
       "      <td>1.003125e+06</td>\n",
       "      <td>1.051614e+06</td>\n",
       "      <td>1049.844772</td>\n",
       "      <td>105.047681</td>\n",
       "      <td>203511.156265</td>\n",
       "      <td>1050.735880</td>\n",
       "      <td>341958.172245</td>\n",
       "      <td>104916.372111</td>\n",
       "      <td>...</td>\n",
       "      <td>3.825322e+11</td>\n",
       "      <td>1.003145e+06</td>\n",
       "      <td>-5.025956e+05</td>\n",
       "      <td>1001.891614</td>\n",
       "      <td>9.995905e+05</td>\n",
       "      <td>3732.365716</td>\n",
       "      <td>100.659348</td>\n",
       "      <td>1617.956555</td>\n",
       "      <td>10505.966555</td>\n",
       "      <td>65052.578569</td>\n",
       "    </tr>\n",
       "    <tr>\n",
       "      <th>std</th>\n",
       "      <td>350.018571</td>\n",
       "      <td>1379.891266</td>\n",
       "      <td>1.001817e+05</td>\n",
       "      <td>2.818085e+04</td>\n",
       "      <td>28.475255</td>\n",
       "      <td>2.823009</td>\n",
       "      <td>29841.633207</td>\n",
       "      <td>28.623527</td>\n",
       "      <td>58820.438523</td>\n",
       "      <td>2755.013692</td>\n",
       "      <td>...</td>\n",
       "      <td>4.347959e+11</td>\n",
       "      <td>9.594847e+04</td>\n",
       "      <td>8.608874e+04</td>\n",
       "      <td>100.410174</td>\n",
       "      <td>9.680491e+04</td>\n",
       "      <td>725.532171</td>\n",
       "      <td>9.336065</td>\n",
       "      <td>401.791865</td>\n",
       "      <td>290.648021</td>\n",
       "      <td>0.029221</td>\n",
       "    </tr>\n",
       "    <tr>\n",
       "      <th>min</th>\n",
       "      <td>0.000000</td>\n",
       "      <td>1030.502715</td>\n",
       "      <td>6.716345e+05</td>\n",
       "      <td>1.000037e+06</td>\n",
       "      <td>1000.062471</td>\n",
       "      <td>100.033879</td>\n",
       "      <td>63202.600024</td>\n",
       "      <td>1000.134779</td>\n",
       "      <td>92365.078214</td>\n",
       "      <td>100016.602565</td>\n",
       "      <td>...</td>\n",
       "      <td>-5.083882e+11</td>\n",
       "      <td>7.186635e+05</td>\n",
       "      <td>-1.110029e+06</td>\n",
       "      <td>643.042857</td>\n",
       "      <td>6.895354e+05</td>\n",
       "      <td>451.131089</td>\n",
       "      <td>65.692019</td>\n",
       "      <td>458.289896</td>\n",
       "      <td>10001.346875</td>\n",
       "      <td>65052.528022</td>\n",
       "    </tr>\n",
       "    <tr>\n",
       "      <th>25%</th>\n",
       "      <td>302.750000</td>\n",
       "      <td>6496.988432</td>\n",
       "      <td>9.409699e+05</td>\n",
       "      <td>1.028118e+06</td>\n",
       "      <td>1025.913567</td>\n",
       "      <td>102.724769</td>\n",
       "      <td>186609.583069</td>\n",
       "      <td>1026.464126</td>\n",
       "      <td>309182.739540</td>\n",
       "      <td>102687.100342</td>\n",
       "      <td>...</td>\n",
       "      <td>1.578603e+11</td>\n",
       "      <td>9.385117e+05</td>\n",
       "      <td>-5.475966e+05</td>\n",
       "      <td>933.591537</td>\n",
       "      <td>9.348641e+05</td>\n",
       "      <td>3297.203036</td>\n",
       "      <td>94.515998</td>\n",
       "      <td>1360.553119</td>\n",
       "      <td>10249.981685</td>\n",
       "      <td>65052.553207</td>\n",
       "    </tr>\n",
       "    <tr>\n",
       "      <th>50%</th>\n",
       "      <td>605.500000</td>\n",
       "      <td>7381.752216</td>\n",
       "      <td>1.003238e+06</td>\n",
       "      <td>1.052406e+06</td>\n",
       "      <td>1050.174694</td>\n",
       "      <td>105.023063</td>\n",
       "      <td>201709.971057</td>\n",
       "      <td>1051.399190</td>\n",
       "      <td>337308.178918</td>\n",
       "      <td>104861.600927</td>\n",
       "      <td>...</td>\n",
       "      <td>2.758197e+11</td>\n",
       "      <td>1.001974e+06</td>\n",
       "      <td>-4.965350e+05</td>\n",
       "      <td>1001.295903</td>\n",
       "      <td>9.989761e+05</td>\n",
       "      <td>3768.931107</td>\n",
       "      <td>100.672131</td>\n",
       "      <td>1604.528424</td>\n",
       "      <td>10505.538263</td>\n",
       "      <td>65052.579678</td>\n",
       "    </tr>\n",
       "    <tr>\n",
       "      <th>75%</th>\n",
       "      <td>908.250000</td>\n",
       "      <td>8153.767104</td>\n",
       "      <td>1.070372e+06</td>\n",
       "      <td>1.075329e+06</td>\n",
       "      <td>1074.864998</td>\n",
       "      <td>107.391464</td>\n",
       "      <td>220981.402036</td>\n",
       "      <td>1075.166305</td>\n",
       "      <td>371797.754187</td>\n",
       "      <td>107160.482832</td>\n",
       "      <td>...</td>\n",
       "      <td>4.867297e+11</td>\n",
       "      <td>1.063238e+06</td>\n",
       "      <td>-4.560057e+05</td>\n",
       "      <td>1069.927335</td>\n",
       "      <td>1.064618e+06</td>\n",
       "      <td>4179.602230</td>\n",
       "      <td>106.809319</td>\n",
       "      <td>1861.784028</td>\n",
       "      <td>10763.810688</td>\n",
       "      <td>65052.603107</td>\n",
       "    </tr>\n",
       "    <tr>\n",
       "      <th>max</th>\n",
       "      <td>1211.000000</td>\n",
       "      <td>13055.814408</td>\n",
       "      <td>1.316548e+06</td>\n",
       "      <td>1.099990e+06</td>\n",
       "      <td>1099.845375</td>\n",
       "      <td>110.048177</td>\n",
       "      <td>370398.522988</td>\n",
       "      <td>1099.997865</td>\n",
       "      <td>784817.830992</td>\n",
       "      <td>109991.914244</td>\n",
       "      <td>...</td>\n",
       "      <td>7.405700e+12</td>\n",
       "      <td>1.308895e+06</td>\n",
       "      <td>-1.400403e+05</td>\n",
       "      <td>1323.073354</td>\n",
       "      <td>1.276136e+06</td>\n",
       "      <td>6781.164024</td>\n",
       "      <td>126.678078</td>\n",
       "      <td>3745.022165</td>\n",
       "      <td>10999.908941</td>\n",
       "      <td>65052.627907</td>\n",
       "    </tr>\n",
       "  </tbody>\n",
       "</table>\n",
       "<p>8 rows × 888 columns</p>\n",
       "</div>"
      ],
      "text/plain": [
       "                id            x0            x1            x2           x3  \\\n",
       "count  1212.000000   1122.000000  1.140000e+03  1.132000e+03  1123.000000   \n",
       "mean    605.500000   7300.504957  1.003125e+06  1.051614e+06  1049.844772   \n",
       "std     350.018571   1379.891266  1.001817e+05  2.818085e+04    28.475255   \n",
       "min       0.000000   1030.502715  6.716345e+05  1.000037e+06  1000.062471   \n",
       "25%     302.750000   6496.988432  9.409699e+05  1.028118e+06  1025.913567   \n",
       "50%     605.500000   7381.752216  1.003238e+06  1.052406e+06  1050.174694   \n",
       "75%     908.250000   8153.767104  1.070372e+06  1.075329e+06  1074.864998   \n",
       "max    1211.000000  13055.814408  1.316548e+06  1.099990e+06  1099.845375   \n",
       "\n",
       "                x4             x5           x6             x7             x8  \\\n",
       "count  1133.000000    1126.000000  1141.000000    1122.000000    1122.000000   \n",
       "mean    105.047681  203511.156265  1050.735880  341958.172245  104916.372111   \n",
       "std       2.823009   29841.633207    28.623527   58820.438523    2755.013692   \n",
       "min     100.033879   63202.600024  1000.134779   92365.078214  100016.602565   \n",
       "25%     102.724769  186609.583069  1026.464126  309182.739540  102687.100342   \n",
       "50%     105.023063  201709.971057  1051.399190  337308.178918  104861.600927   \n",
       "75%     107.391464  220981.402036  1075.166305  371797.754187  107160.482832   \n",
       "max     110.048177  370398.522988  1099.997865  784817.830992  109991.914244   \n",
       "\n",
       "           ...               x877          x878          x879         x880  \\\n",
       "count      ...       1.127000e+03  1.127000e+03  1.132000e+03  1127.000000   \n",
       "mean       ...       3.825322e+11  1.003145e+06 -5.025956e+05  1001.891614   \n",
       "std        ...       4.347959e+11  9.594847e+04  8.608874e+04   100.410174   \n",
       "min        ...      -5.083882e+11  7.186635e+05 -1.110029e+06   643.042857   \n",
       "25%        ...       1.578603e+11  9.385117e+05 -5.475966e+05   933.591537   \n",
       "50%        ...       2.758197e+11  1.001974e+06 -4.965350e+05  1001.295903   \n",
       "75%        ...       4.867297e+11  1.063238e+06 -4.560057e+05  1069.927335   \n",
       "max        ...       7.405700e+12  1.308895e+06 -1.400403e+05  1323.073354   \n",
       "\n",
       "               x881         x882         x883         x884          x885  \\\n",
       "count  1.125000e+03  1127.000000  1148.000000  1126.000000   1123.000000   \n",
       "mean   9.995905e+05  3732.365716   100.659348  1617.956555  10505.966555   \n",
       "std    9.680491e+04   725.532171     9.336065   401.791865    290.648021   \n",
       "min    6.895354e+05   451.131089    65.692019   458.289896  10001.346875   \n",
       "25%    9.348641e+05  3297.203036    94.515998  1360.553119  10249.981685   \n",
       "50%    9.989761e+05  3768.931107   100.672131  1604.528424  10505.538263   \n",
       "75%    1.064618e+06  4179.602230   106.809319  1861.784028  10763.810688   \n",
       "max    1.276136e+06  6781.164024   126.678078  3745.022165  10999.908941   \n",
       "\n",
       "               x886  \n",
       "count   1111.000000  \n",
       "mean   65052.578569  \n",
       "std        0.029221  \n",
       "min    65052.528022  \n",
       "25%    65052.553207  \n",
       "50%    65052.579678  \n",
       "75%    65052.603107  \n",
       "max    65052.627907  \n",
       "\n",
       "[8 rows x 888 columns]"
      ]
     },
     "execution_count": 8,
     "metadata": {},
     "output_type": "execute_result"
    }
   ],
   "source": [
    "X.describe()"
   ]
  },
  {
   "cell_type": "markdown",
   "metadata": {},
   "source": [
    "## Preprocessing"
   ]
  },
  {
   "cell_type": "markdown",
   "metadata": {},
   "source": [
    "### Replace missing values: Interpolation"
   ]
  },
  {
   "cell_type": "code",
   "execution_count": 9,
   "metadata": {},
   "outputs": [
    {
     "name": "stdout",
     "output_type": "stream",
     "text": [
      "Missing entries across all features:  77121\n"
     ]
    },
    {
     "data": {
      "text/html": [
       "<div>\n",
       "<style>\n",
       "    .dataframe thead tr:only-child th {\n",
       "        text-align: right;\n",
       "    }\n",
       "\n",
       "    .dataframe thead th {\n",
       "        text-align: left;\n",
       "    }\n",
       "\n",
       "    .dataframe tbody tr th {\n",
       "        vertical-align: top;\n",
       "    }\n",
       "</style>\n",
       "<table border=\"1\" class=\"dataframe\">\n",
       "  <thead>\n",
       "    <tr style=\"text-align: right;\">\n",
       "      <th></th>\n",
       "      <th>id</th>\n",
       "      <th>x0</th>\n",
       "      <th>x1</th>\n",
       "      <th>x2</th>\n",
       "      <th>x3</th>\n",
       "      <th>x4</th>\n",
       "      <th>x5</th>\n",
       "      <th>x6</th>\n",
       "      <th>x7</th>\n",
       "      <th>x8</th>\n",
       "      <th>...</th>\n",
       "      <th>x877</th>\n",
       "      <th>x878</th>\n",
       "      <th>x879</th>\n",
       "      <th>x880</th>\n",
       "      <th>x881</th>\n",
       "      <th>x882</th>\n",
       "      <th>x883</th>\n",
       "      <th>x884</th>\n",
       "      <th>x885</th>\n",
       "      <th>x886</th>\n",
       "    </tr>\n",
       "  </thead>\n",
       "  <tbody>\n",
       "    <tr>\n",
       "      <th>8</th>\n",
       "      <td>8.0</td>\n",
       "      <td>NaN</td>\n",
       "      <td>1.136943e+06</td>\n",
       "      <td>1.047700e+06</td>\n",
       "      <td>1095.071770</td>\n",
       "      <td>104.280469</td>\n",
       "      <td>199679.789379</td>\n",
       "      <td>1075.166305</td>\n",
       "      <td>308952.165532</td>\n",
       "      <td>NaN</td>\n",
       "      <td>...</td>\n",
       "      <td>6.546477e+10</td>\n",
       "      <td>NaN</td>\n",
       "      <td>-454744.713147</td>\n",
       "      <td>845.220975</td>\n",
       "      <td>1.124313e+06</td>\n",
       "      <td>4242.573171</td>\n",
       "      <td>89.842734</td>\n",
       "      <td>983.020034</td>\n",
       "      <td>10064.518546</td>\n",
       "      <td>65052.596763</td>\n",
       "    </tr>\n",
       "    <tr>\n",
       "      <th>15</th>\n",
       "      <td>15.0</td>\n",
       "      <td>NaN</td>\n",
       "      <td>1.082081e+06</td>\n",
       "      <td>1.053115e+06</td>\n",
       "      <td>1050.318884</td>\n",
       "      <td>107.479167</td>\n",
       "      <td>214460.503578</td>\n",
       "      <td>1012.636406</td>\n",
       "      <td>325226.367066</td>\n",
       "      <td>NaN</td>\n",
       "      <td>...</td>\n",
       "      <td>NaN</td>\n",
       "      <td>8.897315e+05</td>\n",
       "      <td>NaN</td>\n",
       "      <td>1050.097266</td>\n",
       "      <td>1.126804e+06</td>\n",
       "      <td>3840.596957</td>\n",
       "      <td>100.609133</td>\n",
       "      <td>1777.062732</td>\n",
       "      <td>10722.666402</td>\n",
       "      <td>65052.534048</td>\n",
       "    </tr>\n",
       "    <tr>\n",
       "      <th>17</th>\n",
       "      <td>17.0</td>\n",
       "      <td>NaN</td>\n",
       "      <td>1.139222e+06</td>\n",
       "      <td>1.089087e+06</td>\n",
       "      <td>1043.829138</td>\n",
       "      <td>NaN</td>\n",
       "      <td>NaN</td>\n",
       "      <td>1091.372597</td>\n",
       "      <td>311692.655155</td>\n",
       "      <td>106852.971402</td>\n",
       "      <td>...</td>\n",
       "      <td>NaN</td>\n",
       "      <td>8.396675e+05</td>\n",
       "      <td>-457813.748540</td>\n",
       "      <td>914.165982</td>\n",
       "      <td>1.215597e+06</td>\n",
       "      <td>3470.879134</td>\n",
       "      <td>94.259174</td>\n",
       "      <td>1512.026531</td>\n",
       "      <td>10065.973104</td>\n",
       "      <td>NaN</td>\n",
       "    </tr>\n",
       "    <tr>\n",
       "      <th>49</th>\n",
       "      <td>49.0</td>\n",
       "      <td>NaN</td>\n",
       "      <td>1.141092e+06</td>\n",
       "      <td>1.036322e+06</td>\n",
       "      <td>1097.841819</td>\n",
       "      <td>100.595510</td>\n",
       "      <td>192700.231292</td>\n",
       "      <td>1012.064796</td>\n",
       "      <td>349769.421213</td>\n",
       "      <td>109055.678089</td>\n",
       "      <td>...</td>\n",
       "      <td>6.351533e+11</td>\n",
       "      <td>1.072613e+06</td>\n",
       "      <td>-509825.273218</td>\n",
       "      <td>969.096337</td>\n",
       "      <td>8.303299e+05</td>\n",
       "      <td>4486.555772</td>\n",
       "      <td>92.507889</td>\n",
       "      <td>2008.006951</td>\n",
       "      <td>10836.452970</td>\n",
       "      <td>65052.555294</td>\n",
       "    </tr>\n",
       "    <tr>\n",
       "      <th>60</th>\n",
       "      <td>60.0</td>\n",
       "      <td>NaN</td>\n",
       "      <td>9.635644e+05</td>\n",
       "      <td>1.072941e+06</td>\n",
       "      <td>1081.119503</td>\n",
       "      <td>101.504822</td>\n",
       "      <td>221232.605200</td>\n",
       "      <td>1013.414998</td>\n",
       "      <td>373612.773713</td>\n",
       "      <td>106301.596339</td>\n",
       "      <td>...</td>\n",
       "      <td>3.062288e+11</td>\n",
       "      <td>7.953379e+05</td>\n",
       "      <td>-548945.945151</td>\n",
       "      <td>919.380354</td>\n",
       "      <td>9.609103e+05</td>\n",
       "      <td>3854.713301</td>\n",
       "      <td>107.829104</td>\n",
       "      <td>1638.064765</td>\n",
       "      <td>10877.091027</td>\n",
       "      <td>65052.530389</td>\n",
       "    </tr>\n",
       "  </tbody>\n",
       "</table>\n",
       "<p>5 rows × 888 columns</p>\n",
       "</div>"
      ],
      "text/plain": [
       "      id  x0            x1            x2           x3          x4  \\\n",
       "8    8.0 NaN  1.136943e+06  1.047700e+06  1095.071770  104.280469   \n",
       "15  15.0 NaN  1.082081e+06  1.053115e+06  1050.318884  107.479167   \n",
       "17  17.0 NaN  1.139222e+06  1.089087e+06  1043.829138         NaN   \n",
       "49  49.0 NaN  1.141092e+06  1.036322e+06  1097.841819  100.595510   \n",
       "60  60.0 NaN  9.635644e+05  1.072941e+06  1081.119503  101.504822   \n",
       "\n",
       "               x5           x6             x7             x8      ...       \\\n",
       "8   199679.789379  1075.166305  308952.165532            NaN      ...        \n",
       "15  214460.503578  1012.636406  325226.367066            NaN      ...        \n",
       "17            NaN  1091.372597  311692.655155  106852.971402      ...        \n",
       "49  192700.231292  1012.064796  349769.421213  109055.678089      ...        \n",
       "60  221232.605200  1013.414998  373612.773713  106301.596339      ...        \n",
       "\n",
       "            x877          x878           x879         x880          x881  \\\n",
       "8   6.546477e+10           NaN -454744.713147   845.220975  1.124313e+06   \n",
       "15           NaN  8.897315e+05            NaN  1050.097266  1.126804e+06   \n",
       "17           NaN  8.396675e+05 -457813.748540   914.165982  1.215597e+06   \n",
       "49  6.351533e+11  1.072613e+06 -509825.273218   969.096337  8.303299e+05   \n",
       "60  3.062288e+11  7.953379e+05 -548945.945151   919.380354  9.609103e+05   \n",
       "\n",
       "           x882        x883         x884          x885          x886  \n",
       "8   4242.573171   89.842734   983.020034  10064.518546  65052.596763  \n",
       "15  3840.596957  100.609133  1777.062732  10722.666402  65052.534048  \n",
       "17  3470.879134   94.259174  1512.026531  10065.973104           NaN  \n",
       "49  4486.555772   92.507889  2008.006951  10836.452970  65052.555294  \n",
       "60  3854.713301  107.829104  1638.064765  10877.091027  65052.530389  \n",
       "\n",
       "[5 rows x 888 columns]"
      ]
     },
     "execution_count": 9,
     "metadata": {},
     "output_type": "execute_result"
    }
   ],
   "source": [
    "print(\"Missing entries across all features: \",X.isnull().sum().sum())\n",
    "X[X.x0.isnull()].head(5)"
   ]
  },
  {
   "cell_type": "code",
   "execution_count": 10,
   "metadata": {},
   "outputs": [
    {
     "data": {
      "text/plain": [
       "0    7077.537454\n",
       "1    4406.423818\n",
       "2    4460.878690\n",
       "3    7152.388016\n",
       "4    6531.930242\n",
       "Name: x0, dtype: float64"
      ]
     },
     "execution_count": 10,
     "metadata": {},
     "output_type": "execute_result"
    }
   ],
   "source": [
    "X.x0.head(5)"
   ]
  },
  {
   "cell_type": "code",
   "execution_count": 11,
   "metadata": {
    "collapsed": true
   },
   "outputs": [],
   "source": [
    "X.x0 =  X.x0.interpolate(method='nearest')\n",
    "\n"
   ]
  },
  {
   "cell_type": "code",
   "execution_count": 12,
   "metadata": {
    "collapsed": true
   },
   "outputs": [],
   "source": [
    "# X_train.iloc[8:60]\n",
    "# X_train[X_train.x0.isnull()].head(5)"
   ]
  },
  {
   "cell_type": "code",
   "execution_count": 13,
   "metadata": {},
   "outputs": [
    {
     "data": {
      "text/plain": [
       "0"
      ]
     },
     "execution_count": 13,
     "metadata": {},
     "output_type": "execute_result"
    }
   ],
   "source": [
    "X = X.interpolate(method = 'nearest').ffill().bfill()\n",
    "\n",
    "X.isnull().sum().sum()"
   ]
  },
  {
   "cell_type": "markdown",
   "metadata": {},
   "source": [
    "### Data normalization"
   ]
  },
  {
   "cell_type": "code",
   "execution_count": 14,
   "metadata": {},
   "outputs": [
    {
     "name": "stderr",
     "output_type": "stream",
     "text": [
      "/anaconda/envs/py3k/lib/python3.6/site-packages/sklearn/preprocessing/data.py:164: UserWarning: Numerical issues were encountered when centering the data and might not be solved. Dataset may contain too large values. You may need to prescale your features.\n",
      "  warnings.warn(\"Numerical issues were encountered \"\n"
     ]
    }
   ],
   "source": [
    "X_normalized = preprocessing.normalize(X)\n",
    "X_standardized = preprocessing.scale(X)\n"
   ]
  },
  {
   "cell_type": "markdown",
   "metadata": {},
   "source": [
    "### Training / Validation Spilt"
   ]
  },
  {
   "cell_type": "code",
   "execution_count": 40,
   "metadata": {},
   "outputs": [
    {
     "name": "stdout",
     "output_type": "stream",
     "text": [
      "X_train: 969\n",
      "X_test: 243\n"
     ]
    }
   ],
   "source": [
    "X_train, X_val, Y_train, Y_val = train_test_split(X_normalized, Y, test_size=0.2, random_state=42)\n",
    "print(\"X_train: {}\".format(X_train.shape[0]))\n",
    "print(\"X_test: {}\".format(X_test.shape[0]))\n",
    "\n"
   ]
  },
  {
   "cell_type": "markdown",
   "metadata": {},
   "source": [
    "## Feature Reduction / Extraction"
   ]
  },
  {
   "cell_type": "code",
   "execution_count": 41,
   "metadata": {},
   "outputs": [],
   "source": [
    "# feature extraction\n",
    "model = ExtraTreesClassifier()\n",
    "model.fit(X_train, Y_train)\n",
    "feature_importance = model.feature_importances_"
   ]
  },
  {
   "cell_type": "code",
   "execution_count": 42,
   "metadata": {},
   "outputs": [
    {
     "data": {
      "text/plain": [
       "array([[332],\n",
       "       [401],\n",
       "       [610],\n",
       "       [878]])"
      ]
     },
     "execution_count": 42,
     "metadata": {},
     "output_type": "execute_result"
    }
   ],
   "source": [
    "# feature_importance.find(feature_importance>0)\n",
    "\n",
    "feature_max_importance = np.argwhere(feature_importance > 0)\n",
    "feature_max_importance"
   ]
  },
  {
   "cell_type": "markdown",
   "metadata": {
    "collapsed": true
   },
   "source": [
    "I will select the following features"
   ]
  },
  {
   "cell_type": "code",
   "execution_count": 43,
   "metadata": {},
   "outputs": [
    {
     "data": {
      "text/plain": [
       "(243, 4)"
      ]
     },
     "execution_count": 43,
     "metadata": {},
     "output_type": "execute_result"
    }
   ],
   "source": [
    "X_train_selected = X_train[:,feature_max_importance]\n",
    "X_val_selected = X_val[:,feature_max_importance]\n",
    "\n",
    "X_train_selected = X_train_selected.reshape(X_train_selected.shape[0],X_train_selected.shape[1])\n",
    "X_train_selected.shape\n",
    "\n",
    "X_val_selected = X_val_selected.reshape(X_val_selected.shape[0],X_val_selected.shape[1])\n",
    "X_val_selected.shape"
   ]
  },
  {
   "cell_type": "markdown",
   "metadata": {},
   "source": [
    "## Algorithm"
   ]
  },
  {
   "cell_type": "code",
   "execution_count": 44,
   "metadata": {},
   "outputs": [
    {
     "name": "stdout",
     "output_type": "stream",
     "text": [
      "R2 score: 0.00\n"
     ]
    }
   ],
   "source": [
    "regr = linear_model.LinearRegression()\n",
    "\n",
    "# Train the model using the training sets\n",
    "regr.fit(X_train_selected, Y_train)\n",
    "\n",
    "# Make predictions using the testing set\n",
    "Y_pred = regr.predict(X_val_selected)\n",
    "\n",
    "\n",
    "print('R2 score: %.2f' % r2_score(Y_val, Y_pred))\n"
   ]
  },
  {
   "cell_type": "code",
   "execution_count": 45,
   "metadata": {},
   "outputs": [],
   "source": [
    "# Alpha (regularization strength) of LASSO regression\n",
    "# lasso_eps = 0.0001\n",
    "# lasso_nalpha=20\n",
    "# lasso_iter=5000\n",
    "# # Min and max degree of polynomials features to consider\n",
    "# degree_min = 2\n",
    "# degree_max = 8\n",
    "# Test/train split\n",
    "# Make a pipeline model with polynomial transformation and LASSO regression with cross-validation, run it for increasing degree of polynomial (complexity of the model)\n",
    "# for degree in range(degree_min,degree_max+1):\n",
    "#     model = make_pipeline(PolynomialFeatures(degree, interaction_only=False), LassoCV(eps=lasso_eps,n_alphas=lasso_nalpha,max_iter=lasso_iter,\n",
    "# normalize=True,cv=5))\n",
    "#     model.fit(X_train,Y_train)\n",
    "#     Y_pred = np.array(model.predict(X_test))\n",
    "    \n",
    "#     print('R2 score: %.2f' % r2_score(Y_test, Y_pred))\n",
    "\n",
    "    "
   ]
  }
 ],
 "metadata": {
  "kernelspec": {
   "display_name": "Python 3",
   "language": "python",
   "name": "python3"
  },
  "language_info": {
   "codemirror_mode": {
    "name": "ipython",
    "version": 3
   },
   "file_extension": ".py",
   "mimetype": "text/x-python",
   "name": "python",
   "nbconvert_exporter": "python",
   "pygments_lexer": "ipython3",
   "version": "3.6.2"
  }
 },
 "nbformat": 4,
 "nbformat_minor": 2
}
