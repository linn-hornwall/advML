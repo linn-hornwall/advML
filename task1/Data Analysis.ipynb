{
 "cells": [
  {
   "cell_type": "code",
   "execution_count": 1,
   "metadata": {},
   "outputs": [
    {
     "name": "stdout",
     "output_type": "stream",
     "text": [
      "Requirement already satisfied: xgboost in /anaconda3/lib/python3.6/site-packages (0.80)\n",
      "Requirement already satisfied: scipy in /anaconda3/lib/python3.6/site-packages (from xgboost) (0.19.1)\n",
      "Requirement already satisfied: numpy in /Users/Linn/.local/lib/python3.6/site-packages (from xgboost) (1.15.2)\n",
      "Requirement already satisfied: fancyimpute in /anaconda3/lib/python3.6/site-packages (0.4.0)\n",
      "Requirement already satisfied: numpy>=1.10 in /Users/Linn/.local/lib/python3.6/site-packages (from fancyimpute) (1.15.2)\n",
      "Requirement already satisfied: keras>=2.0.0 in /anaconda3/lib/python3.6/site-packages (from fancyimpute) (2.2.4)\n",
      "Requirement already satisfied: knnimpute in /anaconda3/lib/python3.6/site-packages (from fancyimpute) (0.1.0)\n",
      "Requirement already satisfied: tensorflow in /anaconda3/lib/python3.6/site-packages (from fancyimpute) (1.11.0)\n",
      "Requirement already satisfied: six in /anaconda3/lib/python3.6/site-packages (from fancyimpute) (1.11.0)\n",
      "Requirement already satisfied: scikit-learn>=0.19.1 in /anaconda3/lib/python3.6/site-packages (from fancyimpute) (0.19.1)\n",
      "Requirement already satisfied: cvxpy>=1.0.6 in /anaconda3/lib/python3.6/site-packages (from fancyimpute) (1.0.9)\n",
      "Requirement already satisfied: np-utils in /anaconda3/lib/python3.6/site-packages (from fancyimpute) (0.5.5.2)\n",
      "Requirement already satisfied: scipy in /anaconda3/lib/python3.6/site-packages (from fancyimpute) (0.19.1)\n",
      "Requirement already satisfied: h5py in /anaconda3/lib/python3.6/site-packages (from keras>=2.0.0->fancyimpute) (2.7.0)\n",
      "Requirement already satisfied: pyyaml in /anaconda3/lib/python3.6/site-packages (from keras>=2.0.0->fancyimpute) (3.12)\n",
      "Requirement already satisfied: keras-applications>=1.0.6 in /anaconda3/lib/python3.6/site-packages (from keras>=2.0.0->fancyimpute) (1.0.6)\n",
      "Requirement already satisfied: keras-preprocessing>=1.0.5 in /anaconda3/lib/python3.6/site-packages (from keras>=2.0.0->fancyimpute) (1.0.5)\n",
      "Requirement already satisfied: astor>=0.6.0 in /anaconda3/lib/python3.6/site-packages (from tensorflow->fancyimpute) (0.7.1)\n",
      "Requirement already satisfied: gast>=0.2.0 in /anaconda3/lib/python3.6/site-packages (from tensorflow->fancyimpute) (0.2.0)\n",
      "Requirement already satisfied: grpcio>=1.8.6 in /anaconda3/lib/python3.6/site-packages (from tensorflow->fancyimpute) (1.15.0)\n",
      "Requirement already satisfied: absl-py>=0.1.6 in /anaconda3/lib/python3.6/site-packages (from tensorflow->fancyimpute) (0.5.0)\n",
      "Requirement already satisfied: wheel>=0.26 in /anaconda3/lib/python3.6/site-packages (from tensorflow->fancyimpute) (0.29.0)\n",
      "Requirement already satisfied: tensorboard<1.12.0,>=1.11.0 in /anaconda3/lib/python3.6/site-packages (from tensorflow->fancyimpute) (1.11.0)\n",
      "Requirement already satisfied: termcolor>=1.1.0 in /anaconda3/lib/python3.6/site-packages (from tensorflow->fancyimpute) (1.1.0)\n",
      "Requirement already satisfied: protobuf>=3.6.0 in /anaconda3/lib/python3.6/site-packages (from tensorflow->fancyimpute) (3.6.1)\n",
      "Requirement already satisfied: setuptools<=39.1.0 in /anaconda3/lib/python3.6/site-packages (from tensorflow->fancyimpute) (36.5.0.post20170921)\n",
      "Requirement already satisfied: osqp in /anaconda3/lib/python3.6/site-packages (from cvxpy>=1.0.6->fancyimpute) (0.4.1)\n",
      "Requirement already satisfied: fastcache in /anaconda3/lib/python3.6/site-packages (from cvxpy>=1.0.6->fancyimpute) (1.0.2)\n",
      "Requirement already satisfied: multiprocess in /anaconda3/lib/python3.6/site-packages (from cvxpy>=1.0.6->fancyimpute) (0.70.6.1)\n",
      "Requirement already satisfied: ecos>=2 in /anaconda3/lib/python3.6/site-packages (from cvxpy>=1.0.6->fancyimpute) (2.0.5)\n",
      "Requirement already satisfied: toolz in /anaconda3/lib/python3.6/site-packages (from cvxpy>=1.0.6->fancyimpute) (0.8.2)\n",
      "Requirement already satisfied: scs>=1.1.3 in /anaconda3/lib/python3.6/site-packages (from cvxpy>=1.0.6->fancyimpute) (2.0.2)\n",
      "Requirement already satisfied: future>=0.16 in /anaconda3/lib/python3.6/site-packages (from np-utils->fancyimpute) (0.16.0)\n",
      "Requirement already satisfied: markdown>=2.6.8 in /anaconda3/lib/python3.6/site-packages (from tensorboard<1.12.0,>=1.11.0->tensorflow->fancyimpute) (3.0.1)\n",
      "Requirement already satisfied: werkzeug>=0.11.10 in /anaconda3/lib/python3.6/site-packages (from tensorboard<1.12.0,>=1.11.0->tensorflow->fancyimpute) (0.12.2)\n",
      "Requirement already satisfied: dill>=0.2.8.1 in /anaconda3/lib/python3.6/site-packages (from multiprocess->cvxpy>=1.0.6->fancyimpute) (0.2.8.2)\n"
     ]
    }
   ],
   "source": [
    "#import sys\n",
    "#!{sys.executable} -m pip install xgboost\n",
    "#!{sys.executable} -m pip install fancyimpute"
   ]
  },
  {
   "cell_type": "code",
   "execution_count": 3,
   "metadata": {},
   "outputs": [],
   "source": [
    "import numpy as np\n",
    "import xgboost as xgb\n",
    "import pandas as pd\n",
    "import pickle as pkl\n",
    "import matplotlib.pyplot as plt\n",
    "%matplotlib inline\n",
    "\n",
    "from sklearn import preprocessing, linear_model\n",
    "from sklearn.model_selection import train_test_split\n",
    "from sklearn.metrics import mean_squared_error, r2_score\n",
    "from sklearn.feature_selection import VarianceThreshold\n",
    "#from fancyimpute import KNN\n",
    "\n",
    "from sklearn.preprocessing import PolynomialFeatures\n",
    "# Import Linear Regression and a regularized regression function\n",
    "from sklearn.linear_model import LinearRegression\n",
    "from sklearn.linear_model import LassoCV\n",
    "from sklearn.decomposition import PCA\n",
    "# Finally, import function to make a machine learning pipeline\n",
    "from sklearn.pipeline import make_pipeline"
   ]
  },
  {
   "cell_type": "markdown",
   "metadata": {},
   "source": [
    "## Load Data"
   ]
  },
  {
   "cell_type": "code",
   "execution_count": 6,
   "metadata": {},
   "outputs": [
    {
     "name": "stdout",
     "output_type": "stream",
     "text": [
      "Training Data:(1212, 888)\n",
      "Test Data:(776, 888)\n"
     ]
    },
    {
     "data": {
      "text/html": [
       "<div>\n",
       "<style>\n",
       "    .dataframe thead tr:only-child th {\n",
       "        text-align: right;\n",
       "    }\n",
       "\n",
       "    .dataframe thead th {\n",
       "        text-align: left;\n",
       "    }\n",
       "\n",
       "    .dataframe tbody tr th {\n",
       "        vertical-align: top;\n",
       "    }\n",
       "</style>\n",
       "<table border=\"1\" class=\"dataframe\">\n",
       "  <thead>\n",
       "    <tr style=\"text-align: right;\">\n",
       "      <th></th>\n",
       "      <th>id</th>\n",
       "      <th>y</th>\n",
       "    </tr>\n",
       "  </thead>\n",
       "  <tbody>\n",
       "    <tr>\n",
       "      <th>0</th>\n",
       "      <td>0.0</td>\n",
       "      <td>75.0</td>\n",
       "    </tr>\n",
       "    <tr>\n",
       "      <th>1</th>\n",
       "      <td>1.0</td>\n",
       "      <td>76.0</td>\n",
       "    </tr>\n",
       "  </tbody>\n",
       "</table>\n",
       "</div>"
      ],
      "text/plain": [
       "    id     y\n",
       "0  0.0  75.0\n",
       "1  1.0  76.0"
      ]
     },
     "execution_count": 6,
     "metadata": {},
     "output_type": "execute_result"
    }
   ],
   "source": [
    "X = pd.read_csv('data/X_train.csv')\n",
    "Y = pd.read_csv('data/Y_train.csv')\n",
    "X_test = pd.read_csv('data/X_test.csv')\n",
    "\n",
    "print(\"Training Data:{}\".format(X.shape))\n",
    "print(\"Test Data:{}\".format(X_test.shape))\n",
    "\n",
    "Y.head(2)\n"
   ]
  },
  {
   "cell_type": "code",
   "execution_count": 7,
   "metadata": {},
   "outputs": [
    {
     "data": {
      "text/plain": [
       "count    1212.000000\n",
       "mean       69.763201\n",
       "std         9.941656\n",
       "min        42.000000\n",
       "25%        64.000000\n",
       "50%        70.000000\n",
       "75%        76.000000\n",
       "max        96.000000\n",
       "Name: y, dtype: float64"
      ]
     },
     "execution_count": 7,
     "metadata": {},
     "output_type": "execute_result"
    }
   ],
   "source": [
    "Y['y'].describe()"
   ]
  },
  {
   "cell_type": "code",
   "execution_count": 8,
   "metadata": {},
   "outputs": [
    {
     "data": {
      "text/html": [
       "<div>\n",
       "<style>\n",
       "    .dataframe thead tr:only-child th {\n",
       "        text-align: right;\n",
       "    }\n",
       "\n",
       "    .dataframe thead th {\n",
       "        text-align: left;\n",
       "    }\n",
       "\n",
       "    .dataframe tbody tr th {\n",
       "        vertical-align: top;\n",
       "    }\n",
       "</style>\n",
       "<table border=\"1\" class=\"dataframe\">\n",
       "  <thead>\n",
       "    <tr style=\"text-align: right;\">\n",
       "      <th></th>\n",
       "      <th>id</th>\n",
       "      <th>x0</th>\n",
       "      <th>x1</th>\n",
       "      <th>x2</th>\n",
       "      <th>x3</th>\n",
       "      <th>x4</th>\n",
       "      <th>x5</th>\n",
       "      <th>x6</th>\n",
       "      <th>x7</th>\n",
       "      <th>x8</th>\n",
       "      <th>...</th>\n",
       "      <th>x877</th>\n",
       "      <th>x878</th>\n",
       "      <th>x879</th>\n",
       "      <th>x880</th>\n",
       "      <th>x881</th>\n",
       "      <th>x882</th>\n",
       "      <th>x883</th>\n",
       "      <th>x884</th>\n",
       "      <th>x885</th>\n",
       "      <th>x886</th>\n",
       "    </tr>\n",
       "  </thead>\n",
       "  <tbody>\n",
       "    <tr>\n",
       "      <th>count</th>\n",
       "      <td>1212.000000</td>\n",
       "      <td>1122.000000</td>\n",
       "      <td>1.140000e+03</td>\n",
       "      <td>1.132000e+03</td>\n",
       "      <td>1123.000000</td>\n",
       "      <td>1133.000000</td>\n",
       "      <td>1126.000000</td>\n",
       "      <td>1141.000000</td>\n",
       "      <td>1122.000000</td>\n",
       "      <td>1122.000000</td>\n",
       "      <td>...</td>\n",
       "      <td>1.127000e+03</td>\n",
       "      <td>1.127000e+03</td>\n",
       "      <td>1.132000e+03</td>\n",
       "      <td>1127.000000</td>\n",
       "      <td>1.125000e+03</td>\n",
       "      <td>1127.000000</td>\n",
       "      <td>1148.000000</td>\n",
       "      <td>1126.000000</td>\n",
       "      <td>1123.000000</td>\n",
       "      <td>1111.000000</td>\n",
       "    </tr>\n",
       "    <tr>\n",
       "      <th>mean</th>\n",
       "      <td>605.500000</td>\n",
       "      <td>7300.504957</td>\n",
       "      <td>1.003125e+06</td>\n",
       "      <td>1.051614e+06</td>\n",
       "      <td>1049.844772</td>\n",
       "      <td>105.047681</td>\n",
       "      <td>203511.156265</td>\n",
       "      <td>1050.735880</td>\n",
       "      <td>341958.172245</td>\n",
       "      <td>104916.372111</td>\n",
       "      <td>...</td>\n",
       "      <td>3.825322e+11</td>\n",
       "      <td>1.003145e+06</td>\n",
       "      <td>-5.025956e+05</td>\n",
       "      <td>1001.891614</td>\n",
       "      <td>9.995905e+05</td>\n",
       "      <td>3732.365716</td>\n",
       "      <td>100.659348</td>\n",
       "      <td>1617.956555</td>\n",
       "      <td>10505.966555</td>\n",
       "      <td>65052.578569</td>\n",
       "    </tr>\n",
       "    <tr>\n",
       "      <th>std</th>\n",
       "      <td>350.018571</td>\n",
       "      <td>1379.891266</td>\n",
       "      <td>1.001817e+05</td>\n",
       "      <td>2.818085e+04</td>\n",
       "      <td>28.475255</td>\n",
       "      <td>2.823009</td>\n",
       "      <td>29841.633207</td>\n",
       "      <td>28.623527</td>\n",
       "      <td>58820.438523</td>\n",
       "      <td>2755.013692</td>\n",
       "      <td>...</td>\n",
       "      <td>4.347959e+11</td>\n",
       "      <td>9.594847e+04</td>\n",
       "      <td>8.608874e+04</td>\n",
       "      <td>100.410174</td>\n",
       "      <td>9.680491e+04</td>\n",
       "      <td>725.532171</td>\n",
       "      <td>9.336065</td>\n",
       "      <td>401.791865</td>\n",
       "      <td>290.648021</td>\n",
       "      <td>0.029221</td>\n",
       "    </tr>\n",
       "    <tr>\n",
       "      <th>min</th>\n",
       "      <td>0.000000</td>\n",
       "      <td>1030.502715</td>\n",
       "      <td>6.716345e+05</td>\n",
       "      <td>1.000037e+06</td>\n",
       "      <td>1000.062471</td>\n",
       "      <td>100.033879</td>\n",
       "      <td>63202.600024</td>\n",
       "      <td>1000.134779</td>\n",
       "      <td>92365.078214</td>\n",
       "      <td>100016.602565</td>\n",
       "      <td>...</td>\n",
       "      <td>-5.083882e+11</td>\n",
       "      <td>7.186635e+05</td>\n",
       "      <td>-1.110029e+06</td>\n",
       "      <td>643.042857</td>\n",
       "      <td>6.895354e+05</td>\n",
       "      <td>451.131089</td>\n",
       "      <td>65.692019</td>\n",
       "      <td>458.289896</td>\n",
       "      <td>10001.346875</td>\n",
       "      <td>65052.528022</td>\n",
       "    </tr>\n",
       "    <tr>\n",
       "      <th>25%</th>\n",
       "      <td>302.750000</td>\n",
       "      <td>6496.988432</td>\n",
       "      <td>9.409699e+05</td>\n",
       "      <td>1.028118e+06</td>\n",
       "      <td>1025.913567</td>\n",
       "      <td>102.724769</td>\n",
       "      <td>186609.583069</td>\n",
       "      <td>1026.464126</td>\n",
       "      <td>309182.739540</td>\n",
       "      <td>102687.100342</td>\n",
       "      <td>...</td>\n",
       "      <td>1.578603e+11</td>\n",
       "      <td>9.385117e+05</td>\n",
       "      <td>-5.475966e+05</td>\n",
       "      <td>933.591537</td>\n",
       "      <td>9.348641e+05</td>\n",
       "      <td>3297.203036</td>\n",
       "      <td>94.515998</td>\n",
       "      <td>1360.553119</td>\n",
       "      <td>10249.981685</td>\n",
       "      <td>65052.553207</td>\n",
       "    </tr>\n",
       "    <tr>\n",
       "      <th>50%</th>\n",
       "      <td>605.500000</td>\n",
       "      <td>7381.752216</td>\n",
       "      <td>1.003238e+06</td>\n",
       "      <td>1.052406e+06</td>\n",
       "      <td>1050.174694</td>\n",
       "      <td>105.023063</td>\n",
       "      <td>201709.971057</td>\n",
       "      <td>1051.399190</td>\n",
       "      <td>337308.178918</td>\n",
       "      <td>104861.600927</td>\n",
       "      <td>...</td>\n",
       "      <td>2.758197e+11</td>\n",
       "      <td>1.001974e+06</td>\n",
       "      <td>-4.965350e+05</td>\n",
       "      <td>1001.295903</td>\n",
       "      <td>9.989761e+05</td>\n",
       "      <td>3768.931107</td>\n",
       "      <td>100.672131</td>\n",
       "      <td>1604.528424</td>\n",
       "      <td>10505.538263</td>\n",
       "      <td>65052.579678</td>\n",
       "    </tr>\n",
       "    <tr>\n",
       "      <th>75%</th>\n",
       "      <td>908.250000</td>\n",
       "      <td>8153.767104</td>\n",
       "      <td>1.070372e+06</td>\n",
       "      <td>1.075329e+06</td>\n",
       "      <td>1074.864998</td>\n",
       "      <td>107.391464</td>\n",
       "      <td>220981.402036</td>\n",
       "      <td>1075.166305</td>\n",
       "      <td>371797.754187</td>\n",
       "      <td>107160.482832</td>\n",
       "      <td>...</td>\n",
       "      <td>4.867297e+11</td>\n",
       "      <td>1.063238e+06</td>\n",
       "      <td>-4.560057e+05</td>\n",
       "      <td>1069.927335</td>\n",
       "      <td>1.064618e+06</td>\n",
       "      <td>4179.602230</td>\n",
       "      <td>106.809319</td>\n",
       "      <td>1861.784028</td>\n",
       "      <td>10763.810688</td>\n",
       "      <td>65052.603107</td>\n",
       "    </tr>\n",
       "    <tr>\n",
       "      <th>max</th>\n",
       "      <td>1211.000000</td>\n",
       "      <td>13055.814408</td>\n",
       "      <td>1.316548e+06</td>\n",
       "      <td>1.099990e+06</td>\n",
       "      <td>1099.845375</td>\n",
       "      <td>110.048177</td>\n",
       "      <td>370398.522988</td>\n",
       "      <td>1099.997865</td>\n",
       "      <td>784817.830992</td>\n",
       "      <td>109991.914244</td>\n",
       "      <td>...</td>\n",
       "      <td>7.405700e+12</td>\n",
       "      <td>1.308895e+06</td>\n",
       "      <td>-1.400403e+05</td>\n",
       "      <td>1323.073354</td>\n",
       "      <td>1.276136e+06</td>\n",
       "      <td>6781.164024</td>\n",
       "      <td>126.678078</td>\n",
       "      <td>3745.022165</td>\n",
       "      <td>10999.908941</td>\n",
       "      <td>65052.627907</td>\n",
       "    </tr>\n",
       "  </tbody>\n",
       "</table>\n",
       "<p>8 rows × 888 columns</p>\n",
       "</div>"
      ],
      "text/plain": [
       "                id            x0            x1            x2           x3  \\\n",
       "count  1212.000000   1122.000000  1.140000e+03  1.132000e+03  1123.000000   \n",
       "mean    605.500000   7300.504957  1.003125e+06  1.051614e+06  1049.844772   \n",
       "std     350.018571   1379.891266  1.001817e+05  2.818085e+04    28.475255   \n",
       "min       0.000000   1030.502715  6.716345e+05  1.000037e+06  1000.062471   \n",
       "25%     302.750000   6496.988432  9.409699e+05  1.028118e+06  1025.913567   \n",
       "50%     605.500000   7381.752216  1.003238e+06  1.052406e+06  1050.174694   \n",
       "75%     908.250000   8153.767104  1.070372e+06  1.075329e+06  1074.864998   \n",
       "max    1211.000000  13055.814408  1.316548e+06  1.099990e+06  1099.845375   \n",
       "\n",
       "                x4             x5           x6             x7             x8  \\\n",
       "count  1133.000000    1126.000000  1141.000000    1122.000000    1122.000000   \n",
       "mean    105.047681  203511.156265  1050.735880  341958.172245  104916.372111   \n",
       "std       2.823009   29841.633207    28.623527   58820.438523    2755.013692   \n",
       "min     100.033879   63202.600024  1000.134779   92365.078214  100016.602565   \n",
       "25%     102.724769  186609.583069  1026.464126  309182.739540  102687.100342   \n",
       "50%     105.023063  201709.971057  1051.399190  337308.178918  104861.600927   \n",
       "75%     107.391464  220981.402036  1075.166305  371797.754187  107160.482832   \n",
       "max     110.048177  370398.522988  1099.997865  784817.830992  109991.914244   \n",
       "\n",
       "           ...               x877          x878          x879         x880  \\\n",
       "count      ...       1.127000e+03  1.127000e+03  1.132000e+03  1127.000000   \n",
       "mean       ...       3.825322e+11  1.003145e+06 -5.025956e+05  1001.891614   \n",
       "std        ...       4.347959e+11  9.594847e+04  8.608874e+04   100.410174   \n",
       "min        ...      -5.083882e+11  7.186635e+05 -1.110029e+06   643.042857   \n",
       "25%        ...       1.578603e+11  9.385117e+05 -5.475966e+05   933.591537   \n",
       "50%        ...       2.758197e+11  1.001974e+06 -4.965350e+05  1001.295903   \n",
       "75%        ...       4.867297e+11  1.063238e+06 -4.560057e+05  1069.927335   \n",
       "max        ...       7.405700e+12  1.308895e+06 -1.400403e+05  1323.073354   \n",
       "\n",
       "               x881         x882         x883         x884          x885  \\\n",
       "count  1.125000e+03  1127.000000  1148.000000  1126.000000   1123.000000   \n",
       "mean   9.995905e+05  3732.365716   100.659348  1617.956555  10505.966555   \n",
       "std    9.680491e+04   725.532171     9.336065   401.791865    290.648021   \n",
       "min    6.895354e+05   451.131089    65.692019   458.289896  10001.346875   \n",
       "25%    9.348641e+05  3297.203036    94.515998  1360.553119  10249.981685   \n",
       "50%    9.989761e+05  3768.931107   100.672131  1604.528424  10505.538263   \n",
       "75%    1.064618e+06  4179.602230   106.809319  1861.784028  10763.810688   \n",
       "max    1.276136e+06  6781.164024   126.678078  3745.022165  10999.908941   \n",
       "\n",
       "               x886  \n",
       "count   1111.000000  \n",
       "mean   65052.578569  \n",
       "std        0.029221  \n",
       "min    65052.528022  \n",
       "25%    65052.553207  \n",
       "50%    65052.579678  \n",
       "75%    65052.603107  \n",
       "max    65052.627907  \n",
       "\n",
       "[8 rows x 888 columns]"
      ]
     },
     "execution_count": 8,
     "metadata": {},
     "output_type": "execute_result"
    }
   ],
   "source": [
    "X.describe()"
   ]
  },
  {
   "cell_type": "markdown",
   "metadata": {},
   "source": [
    "## Preprocessing"
   ]
  },
  {
   "cell_type": "markdown",
   "metadata": {},
   "source": [
    "### Replace missing values: "
   ]
  },
  {
   "cell_type": "code",
   "execution_count": 9,
   "metadata": {},
   "outputs": [
    {
     "name": "stdout",
     "output_type": "stream",
     "text": [
      "Missing entries in training data across all features:  77121\n",
      "Missing entries in test data across all features:  46382\n"
     ]
    }
   ],
   "source": [
    "print(\"Missing entries in training data across all features: \",X.isnull().sum().sum())\n",
    "\n",
    "print(\"Missing entries in test data across all features: \",X_test.isnull().sum().sum())"
   ]
  },
  {
   "cell_type": "code",
   "execution_count": 24,
   "metadata": {},
   "outputs": [],
   "source": [
    "X = X.interpolate(method = 'nearest').ffill().bfill()\n",
    "X_test = X_test.interpolate(method = 'nearest').ffill().bfill()\n",
    "\n",
    "X.to_csv('X_imputed.csv')\n",
    "X_test.to_csv('X_test_imputed.csv')\n"
   ]
  },
  {
   "cell_type": "markdown",
   "metadata": {},
   "source": [
    "### Data normalization"
   ]
  },
  {
   "cell_type": "code",
   "execution_count": 11,
   "metadata": {
    "scrolled": true
   },
   "outputs": [],
   "source": [
    "# Get column names first\n",
    "names = X.columns\n",
    "#X_normalized = preprocessing.normalize(X_normalized)\n",
    "#X_test_normalized = preprocessing.normalize(X_test_normalized)\n",
    "# Create the Scaler object\n",
    "scaler = preprocessing.StandardScaler()\n",
    "scaler.fit(X)\n",
    "# Fit your data on the scaler object\n",
    "X_normalized = scaler.transform(X)\n",
    "X_test_normalized = scaler.transform(X_test)"
   ]
  },
  {
   "cell_type": "code",
   "execution_count": 12,
   "metadata": {
    "scrolled": true
   },
   "outputs": [
    {
     "name": "stdout",
     "output_type": "stream",
     "text": [
      "0.9954954954954955\n"
     ]
    }
   ],
   "source": [
    "print(np.max(np.var(X_normalized)))"
   ]
  },
  {
   "cell_type": "markdown",
   "metadata": {},
   "source": [
    "## Training / Validation Spilt"
   ]
  },
  {
   "cell_type": "code",
   "execution_count": 13,
   "metadata": {},
   "outputs": [
    {
     "name": "stdout",
     "output_type": "stream",
     "text": [
      "X_train: (969, 888)\n",
      "X_val: (243, 888)\n"
     ]
    }
   ],
   "source": [
    "# Using normalized X here!\n",
    "X_train, X_val, Y_train, Y_val =train_test_split(X_normalized, Y, test_size=0.2, random_state=42)\n",
    "print(\"X_train: {}\".format(X_train.shape))\n",
    "print(\"X_val: {}\".format(X_val.shape))"
   ]
  },
  {
   "cell_type": "code",
   "execution_count": 14,
   "metadata": {},
   "outputs": [
    {
     "name": "stdout",
     "output_type": "stream",
     "text": [
      "1.1633880909767842\n",
      "(888,)\n"
     ]
    }
   ],
   "source": [
    "print(np.max(np.var(X_train, axis=0)))\n",
    "print(np.var(X_train, axis=0).shape)"
   ]
  },
  {
   "cell_type": "markdown",
   "metadata": {},
   "source": [
    "## Feature Selection"
   ]
  },
  {
   "cell_type": "markdown",
   "metadata": {},
   "source": [
    "### Remove features with low variance"
   ]
  },
  {
   "cell_type": "code",
   "execution_count": 15,
   "metadata": {},
   "outputs": [
    {
     "name": "stdout",
     "output_type": "stream",
     "text": [
      "initial shape of X_train:(969, 888)\n",
      "initial shape of X_val:(243, 888)\n",
      "initial shape of X_test:(776, 888)\n",
      "(888,)\n",
      "new shape of X_train:(969, 884)\n",
      "new shape of X_val:(243, 884)\n",
      "new shape of X_test:(776, 884)\n"
     ]
    }
   ],
   "source": [
    "print(\"initial shape of X_train:{}\".format(X_train.shape))\n",
    "print(\"initial shape of X_val:{}\".format(X_val.shape))\n",
    "print(\"initial shape of X_test:{}\".format(X_test_normalized.shape))\n",
    "\n",
    "selector = VarianceThreshold()\n",
    "selector.fit(X_train)\n",
    "\n",
    "X_train = selector.transform(X_train)\n",
    "indices_retained = selector.get_support(indices=False)\n",
    "print(indices_retained.shape)\n",
    "# need to convert X_val to pandas dataframe to use .loc to select features\n",
    "X_val_df = (pd.DataFrame(data=X_val))\n",
    "X_val = X_val_df.loc[:,indices_retained]\n",
    "X_test_normalized_df = pd.DataFrame(data=X_test_normalized)\n",
    "X_test_normalized = X_test_normalized_df.loc[:,indices_retained]\n",
    "\n",
    "print(\"new shape of X_train:{}\".format(X_train.shape))\n",
    "print(\"new shape of X_val:{}\".format(X_val.shape))\n",
    "print(\"new shape of X_test:{}\".format(X_test_normalized.shape))\n"
   ]
  },
  {
   "cell_type": "markdown",
   "metadata": {},
   "source": [
    "### Remove features which highly correlate with other features"
   ]
  },
  {
   "cell_type": "code",
   "execution_count": 16,
   "metadata": {},
   "outputs": [
    {
     "name": "stdout",
     "output_type": "stream",
     "text": [
      "initial shape of X_train:(969, 884)\n",
      "initial shape of X_val:(243, 884)\n",
      "initial shape of X_test:(776, 884)\n",
      "new shape of X_train:(969, 831)\n",
      "new shape of X_val:(243, 831)\n",
      "new shape of X_test:(776, 831)\n"
     ]
    }
   ],
   "source": [
    "print(\"initial shape of X_train:{}\".format(X_train.shape))\n",
    "print(\"initial shape of X_val:{}\".format(X_val.shape))\n",
    "print(\"initial shape of X_test:{}\".format(X_test_normalized.shape))\n",
    "\n",
    "# Create correlation matrix\n",
    "X_train_df = (pd.DataFrame(data=X_train))\n",
    "corr_matrix = X_train_df.corr().abs()\n",
    "\n",
    "# Select upper triangle of correlation matrix\n",
    "upper = corr_matrix.where(np.triu(np.ones(corr_matrix.shape), k=1).astype(np.bool))\n",
    "\n",
    "# Find index of feature columns with correlation greater than 0.8\n",
    "to_drop = [column for column in upper.columns if any(upper[column] > 0.8)]\n",
    "\n",
    "# Drop features \n",
    "X_train = X_train_df.drop(X_train_df.columns[to_drop], axis=1)\n",
    "X_val = X_val.drop(X_val.columns[to_drop], axis=1)\n",
    "X_test_normalized = X_test_normalized.drop(X_test_normalized.columns[to_drop], axis=1)\n",
    "\n",
    "print(\"new shape of X_train:{}\".format(X_train.shape))\n",
    "print(\"new shape of X_val:{}\".format(X_val.shape))\n",
    "print(\"new shape of X_test:{}\".format(X_test_normalized.shape))\n",
    "\n"
   ]
  },
  {
   "cell_type": "code",
   "execution_count": 17,
   "metadata": {},
   "outputs": [
    {
     "data": {
      "text/plain": [
       "array([ 2.48814224e-02, -2.86999391e-02,  1.84213645e-02, -6.01563020e-03,\n",
       "        2.54950949e-02, -1.85056098e-03, -1.95678583e-02,  2.34277990e-02,\n",
       "       -1.57632098e-02,  1.77335837e-02, -4.41920151e-03, -9.29518301e-03,\n",
       "       -3.68781857e-04, -8.40663466e-03, -4.91374601e-03,  2.06509119e-02,\n",
       "       -1.69466066e-03, -6.61480756e-03, -2.01020209e-03, -2.44808824e-02,\n",
       "       -1.29400164e-02,  1.78617889e-03,  9.85952519e-03,  2.16590801e-02,\n",
       "        1.01599750e-02, -5.67979343e-03, -6.74367679e-03, -1.05101477e-02,\n",
       "       -1.15773867e-02, -8.16859268e-03, -5.57564704e-03, -7.99673438e-03,\n",
       "       -1.31986970e-02, -9.87491129e-03,  1.80029492e-02, -2.45460090e-02,\n",
       "        1.28044501e-02, -1.49594766e-02, -1.11349179e-02,  1.00866228e-02,\n",
       "       -8.57391211e-03, -4.60545173e-03,  1.22202056e-03, -3.78602165e-03,\n",
       "        1.04620468e-02,  1.97565459e-04, -1.33750293e-03,  3.46565196e-03,\n",
       "        1.69640043e-02,  4.33448831e-03, -1.09779192e-03, -4.28964299e-03,\n",
       "       -5.52105759e-03,  5.54324264e-03,  2.81473939e-03, -3.51594351e-02,\n",
       "       -1.98595009e-02, -6.94987506e-03, -1.26924059e-02, -2.64055509e-03,\n",
       "       -2.32750762e-02,  9.54155782e-03, -1.67373974e-03, -2.06471836e-03,\n",
       "        1.74158872e-02,  1.14591748e-03, -3.11928121e-03,  2.70058707e-02,\n",
       "       -5.41376155e-02, -7.47585564e-03, -1.74030371e-03, -1.51800911e-02,\n",
       "        9.34027463e-03,  5.62210282e-03, -1.94335204e-02,  1.54372581e-04,\n",
       "       -1.26539165e-02, -2.24191994e-02,  5.59248145e-03,  2.23880241e-02,\n",
       "       -5.72346085e-03,  1.21716696e-02, -6.23610068e-03, -1.36481387e-02,\n",
       "        1.46542596e-02, -9.24462188e-03, -9.03477915e-04,  1.57802439e-02,\n",
       "       -2.96931056e-02, -1.72372055e-02,  4.11289739e-04,  7.99009597e-03,\n",
       "        1.47493403e-02, -1.11392379e-02, -1.35866198e-02, -1.88460177e-02,\n",
       "       -2.46040565e-04,  1.25760471e-03,  4.59257036e-03,  1.44622204e-02,\n",
       "        1.89558865e-03,  4.20112703e-03,  1.34939775e-03, -1.23816779e-02,\n",
       "        1.80955891e-02,  8.14195117e-03,  1.23061140e-02, -3.30278232e-02,\n",
       "       -2.74268544e-03, -1.45174094e-02, -2.95146078e-02,  6.07720938e-03,\n",
       "        2.99221575e-03, -1.12463552e-02, -8.19194988e-03, -1.52295208e-03,\n",
       "       -1.89624532e-02, -4.16473611e-04, -6.99547927e-03, -3.98389288e-02,\n",
       "        1.55910984e-04,  1.66735290e-02, -2.74764902e-02,  1.59585948e-03,\n",
       "        3.78179053e-03,  6.33737213e-03,  7.71941899e-03,  3.21873700e-03,\n",
       "       -1.71048173e-02, -1.61791023e-02, -2.51293671e-03, -1.17455493e-02,\n",
       "        2.67559966e-02,  2.22481477e-03, -2.24896431e-02,  9.13993073e-03,\n",
       "       -1.30805324e-02,  1.07783633e-02, -1.17000502e-02, -1.38322675e-02,\n",
       "        1.61925220e-02,  2.49967395e-03,  1.38942519e-02, -1.59494692e-02,\n",
       "       -2.53089882e-03, -1.49838055e-02,  3.89706146e-03, -3.55332957e-03,\n",
       "        5.94247960e-03,  8.00402916e-03,  5.16461834e-03, -2.49785090e-02,\n",
       "       -6.61526661e-03, -1.08653495e-02, -1.70189998e-02,  1.43728698e-03,\n",
       "       -4.06378654e-03,  6.43928292e-03,  1.05130452e-02, -2.21200394e-02,\n",
       "       -2.32929878e-02, -1.12395998e-02,  2.58558751e-02,  2.00999952e-02,\n",
       "       -5.52616439e-04, -4.54222441e-03,  5.78287575e-03, -6.81129008e-04,\n",
       "       -6.83361935e-04, -7.75602353e-04,  8.03672812e-03, -1.87214240e-02,\n",
       "       -3.15551776e-03, -7.61520333e-03, -2.44021429e-02,  9.29641551e-03,\n",
       "       -4.53632735e-02, -6.72581487e-03, -1.20824605e-02, -2.42998235e-02,\n",
       "       -8.92961943e-04,  2.08349600e-02,  7.52791904e-03,  4.67473876e-03,\n",
       "       -4.24301746e-02, -2.59360303e-03, -2.04441783e-02, -1.50196840e-02,\n",
       "        2.89718453e-05, -9.19736466e-03, -1.29694619e-02, -1.30165626e-02,\n",
       "       -8.46187639e-03,  7.90601669e-03, -2.93016129e-02,  1.17943546e-02,\n",
       "        6.14595521e-04, -2.73065111e-02,  1.93139195e-03, -2.83647713e-02,\n",
       "       -1.02580818e-02, -3.90471951e-03,  4.19021299e-03, -1.67247544e-02,\n",
       "       -1.56005510e-03, -6.66937891e-03, -1.18502689e-02, -1.13874102e-02,\n",
       "        2.73586455e-02, -1.92243715e-03, -1.26901091e-02,  2.23545225e-02,\n",
       "       -3.56771431e-03,  8.71494719e-03,  1.77792585e-02,  7.16483156e-04,\n",
       "       -2.14688969e-02, -1.82627144e-02,  1.23325942e-02,  1.56396454e-02,\n",
       "        1.89387807e-02, -1.19334161e-02, -9.13008119e-03, -9.83277082e-03,\n",
       "       -1.64448575e-02,  1.10506435e-02, -8.44057706e-03,  7.17733267e-03,\n",
       "       -2.44243186e-03, -3.67863177e-03, -1.11454862e-02, -9.00581574e-03,\n",
       "       -8.22905072e-03,  1.34239901e-02, -8.53638140e-03,  6.93813493e-03,\n",
       "        1.85204705e-02,  2.79576878e-02, -2.06684151e-03,  5.18927503e-03,\n",
       "        9.44676967e-03,  5.44819482e-03,  6.77679709e-03, -1.86872126e-02,\n",
       "       -1.33681883e-02, -1.02238457e-02, -1.38269989e-02,  2.32852537e-02,\n",
       "       -9.47065398e-03, -8.32596419e-03,  1.08503605e-02,  2.04352111e-02,\n",
       "       -1.50508328e-02, -1.80867369e-02, -2.56133972e-02,  8.07098734e-03,\n",
       "       -1.25217825e-03,  2.10363412e-02, -2.05524266e-02, -2.77814411e-02,\n",
       "        1.60325049e-02,  2.43236529e-02,  4.27899827e-03, -2.64495306e-03,\n",
       "       -3.73265070e-03, -2.21796587e-02,  6.66313475e-03, -1.00241670e-02,\n",
       "       -6.57662870e-03, -2.58669490e-02,  8.38468169e-04,  4.51788657e-03,\n",
       "       -2.54946072e-02,  1.79527402e-02, -4.19925228e-03, -6.75447627e-03,\n",
       "        2.59090132e-02, -1.19539574e-02,  2.35298774e-02, -2.77188544e-02,\n",
       "       -2.39956737e-02, -5.06308689e-03, -1.66045331e-02, -8.17044084e-03,\n",
       "        7.41689057e-03,  1.00685079e-02, -2.13879871e-02, -1.65820314e-02,\n",
       "        1.82438459e-02, -4.41620875e-02, -2.02246696e-02,  5.64962871e-04,\n",
       "        3.70290530e-02,  4.46914132e-04, -1.14438834e-02, -2.40748016e-02,\n",
       "        2.54175168e-02, -1.78834261e-02, -9.92420391e-03, -1.46966863e-03,\n",
       "       -1.47242367e-02,  2.10201975e-03, -1.21769912e-02, -1.62920320e-02,\n",
       "        3.71186019e-02,  5.29553109e-03,  1.46918846e-02,  5.20869179e-03,\n",
       "        1.21582102e-02,  2.49034393e-02, -2.74748716e-02,  5.39390610e-04,\n",
       "       -1.92688283e-02,  1.53146712e-03, -2.16967435e-03,  9.47093106e-03,\n",
       "       -1.10466086e-04, -1.88430134e-03, -8.78616305e-03, -2.54501688e-03,\n",
       "        1.90764596e-02, -1.69477456e-02, -2.14125344e-02, -2.22145403e-03,\n",
       "       -2.59245725e-03, -3.38927746e-02,  9.81888063e-03, -1.40658734e-02,\n",
       "       -1.43108200e-03, -5.74611239e-03, -5.45823242e-03, -3.84121674e-02,\n",
       "       -2.79250533e-02,  1.11754437e-02, -3.45277225e-02,  1.54217231e-02,\n",
       "        2.67749645e-02, -2.52368130e-03, -3.49490621e-02, -5.03144374e-03,\n",
       "       -1.04520108e-02,  7.26232313e-03, -1.45219716e-02,  9.14907564e-03,\n",
       "       -2.98489603e-02,  1.05083536e-02, -2.52352590e-02, -2.63190329e-03,\n",
       "       -1.65010771e-02, -2.84036079e-03, -1.03163606e-03, -8.64206177e-03,\n",
       "       -2.52339051e-02, -1.56111448e-02, -2.23684399e-03,  5.72473187e-03,\n",
       "        1.30885603e-02, -1.69823375e-03,  1.81879539e-02,  5.81190131e-03,\n",
       "       -1.22552149e-02,  1.99228861e-03,  3.97076235e-03, -2.57643219e-03,\n",
       "       -1.56312484e-02,  3.41376557e-03, -2.66017834e-03,  5.37936058e-03,\n",
       "        2.19481842e-03,  1.43089717e-03, -3.81453235e-03, -1.52503831e-02,\n",
       "       -3.23088107e-03,  1.18462478e-02,  2.98993658e-04, -9.09297150e-03,\n",
       "       -5.25881661e-03, -3.39936553e-02, -2.24191726e-02, -8.25901451e-03,\n",
       "       -2.59751047e-02,  2.20198025e-02, -8.48849637e-03, -7.27147372e-03,\n",
       "       -1.12075403e-02,  1.92926069e-03,  4.16106869e-03, -4.00155946e-03,\n",
       "       -1.29257228e-02, -9.58432313e-03, -1.12076028e-02, -1.94324566e-02,\n",
       "       -2.41215223e-02,  1.40109779e-04, -1.60224283e-03, -1.50699966e-02,\n",
       "        2.58679638e-03, -8.09526176e-04, -5.66701268e-03,  1.20987555e-03,\n",
       "        3.53435286e-02,  1.88570610e-02, -9.99423223e-03,  1.65263259e-02,\n",
       "       -2.25443417e-02,  4.74724069e-04, -1.94545500e-02, -1.28491289e-02,\n",
       "       -2.25716270e-02,  7.67330700e-03, -1.27579648e-04,  2.31735330e-02,\n",
       "       -1.27905332e-02, -7.35565325e-03,  2.81671618e-03, -1.63963153e-02,\n",
       "        4.93688135e-03, -7.31512658e-03, -1.14824851e-02, -1.78018615e-02,\n",
       "       -8.59390213e-05, -1.31207584e-02, -3.79745226e-03,  1.51502589e-02,\n",
       "       -1.52636757e-02, -1.63217435e-02, -2.73393582e-02,  9.06058023e-03,\n",
       "        1.71226698e-02,  9.64927541e-03, -1.60290376e-02,  6.49043177e-03,\n",
       "        1.97772230e-02,  1.04731646e-02,  2.95508306e-03, -1.29637883e-02,\n",
       "        4.86837251e-03,  7.50141463e-03,  6.97217130e-04,  1.82071765e-02,\n",
       "       -1.26931904e-03, -8.88507472e-03, -1.78228249e-02, -3.66977222e-03,\n",
       "       -3.27622990e-02, -5.70808786e-03,  8.70631273e-03,  2.76808944e-03,\n",
       "        8.14041582e-04, -6.19184553e-03, -1.03132994e-02, -2.96237095e-02,\n",
       "       -8.71492927e-03, -7.20001699e-03,  8.09047851e-03, -1.27495729e-02,\n",
       "       -1.97502618e-03,  4.46579180e-03,  5.62591134e-03,  2.36405592e-02,\n",
       "        1.23239040e-02, -1.10039721e-02, -2.49112675e-02,  4.13896451e-03,\n",
       "        3.19072384e-03,  2.73466786e-02, -2.99985415e-03, -1.28184730e-02,\n",
       "        2.37178070e-02, -4.64753344e-03, -1.60049054e-02, -2.12842579e-03,\n",
       "       -1.08565706e-02,  2.28720398e-02, -3.31636718e-02, -2.08545342e-02,\n",
       "       -1.96478528e-02,  2.18731849e-03, -1.02966070e-02,  6.72391616e-03,\n",
       "        1.69530430e-02,  2.57185936e-02,  1.80996335e-02, -1.30265066e-02,\n",
       "       -2.16382519e-02, -1.03527951e-02,  2.53791237e-03, -7.32924467e-03,\n",
       "       -8.80708162e-03,  1.15595495e-02,  1.45111891e-02, -6.90690108e-03,\n",
       "       -2.33604698e-02,  2.11295976e-03, -1.94550288e-03, -1.22426317e-02,\n",
       "       -2.13317314e-02,  2.12339115e-02, -1.12812283e-03,  1.79765431e-02,\n",
       "       -7.68937650e-03,  8.38547788e-03,  1.14688671e-02,  1.24474459e-02,\n",
       "        3.23290332e-02,  1.83555868e-02,  5.57846993e-03, -1.08874033e-02,\n",
       "       -9.38765427e-03, -4.86194656e-03, -9.36836409e-03, -5.15599099e-03,\n",
       "       -1.10063631e-02,  1.59433921e-02, -1.93100474e-04, -1.75708291e-02,\n",
       "       -8.72925432e-03, -1.54988464e-02,  4.83461292e-03, -1.19575165e-03,\n",
       "       -5.31565348e-03, -9.98373365e-03, -7.37169094e-03, -9.17708125e-03,\n",
       "        5.00741595e-03, -1.41305112e-02,  1.66513233e-02,  2.07818314e-02,\n",
       "       -1.64454612e-03, -1.15845801e-02, -1.14668400e-02,  8.25784786e-03,\n",
       "        5.95606572e-03, -1.87507001e-02, -3.98906689e-03,  9.17222185e-03,\n",
       "        6.87310188e-03, -5.85766086e-03, -3.04606058e-02, -1.58915703e-02,\n",
       "       -4.51353937e-03, -1.30545976e-03,  1.09860224e-02, -1.10429600e-02,\n",
       "        3.58107374e-02,  1.71522362e-02,  1.82381710e-02, -2.35753689e-03,\n",
       "        1.15889182e-02,  8.67958669e-03, -2.18754261e-03, -1.86897592e-03,\n",
       "        1.69938939e-03, -2.42521488e-02,  4.72005388e-03,  3.16002265e-03,\n",
       "        8.46488616e-03,  1.64424302e-02, -2.58135444e-02,  3.04211980e-03,\n",
       "        4.49151380e-03,  5.37622000e-03, -2.52727476e-02, -8.94006514e-03,\n",
       "       -9.88184900e-03,  1.69178249e-02, -8.72333098e-03, -1.53812486e-02,\n",
       "       -8.66510643e-03,  2.83483559e-02,  9.13610573e-04, -2.03089072e-02,\n",
       "       -2.49625086e-02, -3.37837318e-02,  1.60730207e-02, -2.20232683e-02,\n",
       "        2.14659997e-04,  3.69751993e-02, -1.78773161e-02, -9.58754487e-03,\n",
       "       -2.42014998e-02,  1.17666568e-02,  2.75373801e-04, -1.13450403e-02,\n",
       "        1.02365027e-02, -3.67655071e-03,  2.21519927e-03, -2.55877215e-02,\n",
       "       -3.53090454e-02, -7.50258913e-03, -9.95560609e-03, -1.74385693e-02,\n",
       "        1.17030910e-02, -8.19632378e-03,  1.73207003e-02,  1.16782310e-02,\n",
       "        1.53634471e-02, -2.75627360e-02, -1.82958118e-02, -1.97433075e-02,\n",
       "       -2.23901903e-04,  4.37177111e-03, -3.09851685e-02, -1.45207283e-02,\n",
       "        1.21675752e-02, -1.89277093e-02, -1.11943685e-03, -2.61291501e-02,\n",
       "       -1.41511834e-02,  1.60620081e-02,  4.91450480e-03, -8.42257814e-03,\n",
       "        9.37901605e-03,  2.14624093e-02,  1.56834169e-02, -1.68400362e-02,\n",
       "       -9.97400281e-03,  2.24404727e-02,  3.95783911e-03,  6.72494805e-03,\n",
       "       -2.51116070e-02,  2.07828592e-02, -1.87256934e-04, -1.35263201e-02,\n",
       "        1.65234684e-02, -1.11492656e-02, -2.86691266e-03, -1.21740348e-03,\n",
       "       -1.55484643e-02, -2.49200395e-02,  1.54730899e-02, -1.19484956e-02,\n",
       "       -8.96847513e-03, -1.95487331e-02,  6.38581049e-03, -1.60203443e-02,\n",
       "       -1.21748182e-02,  7.40968356e-03, -9.07667837e-03, -2.58721620e-02,\n",
       "        9.90128212e-03,  3.26458724e-02,  1.88499330e-02,  2.64952181e-02,\n",
       "       -2.09212807e-02, -2.08880191e-02, -2.91320482e-02,  4.90975692e-03,\n",
       "        7.85354556e-03, -5.81555841e-03,  3.55491114e-04,  1.27711778e-02,\n",
       "       -4.73239340e-03,  1.03566397e-02,  1.16270263e-02, -3.94503295e-03,\n",
       "       -6.48230721e-03, -1.50251233e-02, -2.50075179e-02,  2.20521888e-02,\n",
       "        6.25454449e-03,  1.80474328e-02,  9.92961660e-04,  1.43553456e-03,\n",
       "       -2.58626534e-02, -3.42776414e-03, -4.74416145e-03, -1.45374707e-02,\n",
       "       -1.15246091e-02,  2.45355555e-02, -1.08472900e-02,  5.56015483e-03,\n",
       "        9.80959142e-03, -3.12216988e-02,  5.75919315e-03, -9.85814335e-03,\n",
       "        1.22011075e-02,  6.09603505e-03, -2.66321178e-02, -3.25342573e-02,\n",
       "       -1.37942502e-02,  2.81215349e-02,  1.24271471e-02,  2.07285077e-02,\n",
       "       -1.29716165e-02, -7.56887561e-03,  1.56633396e-03, -2.25353017e-02,\n",
       "       -9.41632758e-03, -3.35523751e-03,  7.24046903e-03,  1.95687257e-02,\n",
       "       -2.27322529e-02, -1.98476736e-02, -3.36278029e-03, -2.11504098e-02,\n",
       "       -2.71520988e-02,  2.36235047e-02, -8.05873920e-03,  1.89616835e-02,\n",
       "       -1.87118334e-02, -1.54533030e-02,  2.11879262e-02,  3.54189038e-03,\n",
       "       -7.70184591e-03, -7.64799982e-03, -1.40915575e-02, -8.43325439e-04,\n",
       "        9.75735300e-03, -1.95153669e-02,  3.26414915e-03, -9.54119178e-03,\n",
       "       -7.65840134e-03,  9.41623977e-04, -1.94858093e-02, -3.01721300e-03,\n",
       "        1.02582471e-02, -4.88499991e-04, -3.99003663e-02, -1.93975273e-03,\n",
       "       -2.68857412e-03,  2.10382853e-02,  1.76674754e-02, -4.65555822e-03,\n",
       "        1.45285880e-02,  1.16850816e-02,  1.16699373e-02,  1.21215974e-02,\n",
       "       -1.86221592e-02, -1.56705778e-02,  2.85547577e-03,  2.55572069e-04,\n",
       "       -1.95015506e-02, -1.22022048e-02,  2.69096959e-02, -1.31068177e-02,\n",
       "        5.21955526e-03,  1.08833922e-03,  1.30542757e-02,  1.69847965e-02,\n",
       "        2.85487177e-02, -1.09428774e-03,  1.21255909e-03,  2.90770777e-03,\n",
       "       -1.19770135e-02,  1.62761012e-02, -8.48896016e-03,  3.65218032e-03,\n",
       "       -4.37707333e-05, -3.78498326e-03, -3.58546905e-02, -3.65937937e-03,\n",
       "        2.16863020e-02, -1.53935227e-02, -2.58822938e-02, -2.29611732e-02,\n",
       "        3.26375777e-03, -2.28996921e-02,  3.03201799e-02,  1.58173980e-02,\n",
       "       -2.20382241e-02, -8.52823616e-03,  8.62860322e-04,  5.84726734e-03,\n",
       "        2.75426309e-03, -1.77958560e-02, -1.28596159e-02, -3.22368926e-02,\n",
       "       -2.74728041e-02, -3.84321538e-04,  1.79724486e-02,  5.43804070e-03,\n",
       "        2.35901018e-02, -3.44241558e-03, -8.63749048e-03,  2.44530218e-02,\n",
       "        1.70191570e-02,  1.71215599e-02, -2.62964200e-02, -2.85147499e-03,\n",
       "       -7.37901350e-03,  9.32144923e-04,  1.79258793e-02, -6.33716401e-03,\n",
       "       -2.69886219e-03, -2.04681507e-03, -1.69085769e-02, -7.51289958e-03,\n",
       "        6.67125579e-03, -1.63776499e-02, -1.42530017e-02, -4.27345540e-03,\n",
       "        5.76216452e-03,  2.17780762e-02, -7.16757893e-03,  2.86560294e-02,\n",
       "       -5.26663333e-03,  2.49139259e-03,  1.53951046e-02, -2.04613795e-02,\n",
       "        1.57029067e-02,  4.56614645e-03,  9.84485469e-03,  2.60056468e-02,\n",
       "        5.99313911e-03,  3.75680110e-03, -7.46181652e-04, -1.79573518e-02,\n",
       "        1.33608251e-02, -1.07739981e-02, -6.40198273e-03, -6.39379103e-03,\n",
       "        8.70721547e-03,  1.52591632e-02, -7.20142351e-03,  1.63969373e-02,\n",
       "       -1.41851203e-02, -1.00406993e-02,  2.76184264e-02, -3.28741060e-02,\n",
       "        2.10791473e-02,  1.69816951e-02, -7.60371554e-03, -3.90995594e-03,\n",
       "       -1.83333224e-02, -8.68680489e-03,  1.19911691e-02,  2.01414045e-02,\n",
       "       -1.22243993e-02, -6.97188559e-03, -1.44671295e-02])"
      ]
     },
     "execution_count": 17,
     "metadata": {},
     "output_type": "execute_result"
    }
   ],
   "source": [
    "np.average(X_train,axis=0)"
   ]
  },
  {
   "cell_type": "markdown",
   "metadata": {},
   "source": [
    "### PCA"
   ]
  },
  {
   "cell_type": "code",
   "execution_count": 18,
   "metadata": {},
   "outputs": [
    {
     "name": "stdout",
     "output_type": "stream",
     "text": [
      "1.1633880909767842\n",
      "(831,)\n"
     ]
    }
   ],
   "source": [
    "print(np.max(np.var(X_train,axis=0)))\n",
    "print(np.var(X_train,axis=0).shape)"
   ]
  },
  {
   "cell_type": "code",
   "execution_count": 19,
   "metadata": {},
   "outputs": [
    {
     "name": "stdout",
     "output_type": "stream",
     "text": [
      "831\n",
      "[ 59.09526774  84.08098203  90.68081866  96.01544406 100.32747452\n",
      " 104.18302855]\n"
     ]
    },
    {
     "data": {
      "image/png": "[encoded data removed]",
      "text/plain": [
       "<matplotlib.figure.Figure at 0x1a1231aa58>"
      ]
     },
     "metadata": {},
     "output_type": "display_data"
    }
   ],
   "source": [
    "n_columns = X_train.shape[1]\n",
    "print(n_columns)\n",
    "pca = PCA(n_components = n_columns)\n",
    "pca.fit(X_train)\n",
    "components = np.linspace(1, n_columns, n_columns)\n",
    "explained_var = np.zeros(n_columns)\n",
    "explained_var[0] = pca.explained_variance_[0]\n",
    "for i in range(1,n_columns+1):\n",
    "    explained_var[i-1] = explained_var[i-2] + pca.explained_variance_[i-1]\n",
    "  #explained_var[i-1] = pca.explained_variance_ratio_[i-1]\n",
    "print(explained_var[0:6])\n",
    "plt.plot(components,explained_var, label=\"Sum of explained variance\")\n",
    "plt.xlabel('number of PCA components')\n",
    "plt.ylabel('explained variance')\n",
    "plt.show()"
   ]
  },
  {
   "cell_type": "markdown",
   "metadata": {},
   "source": [
    "## Algorithm"
   ]
  },
  {
   "cell_type": "markdown",
   "metadata": {},
   "source": [
    "### Linear Regression"
   ]
  },
  {
   "cell_type": "code",
   "execution_count": 20,
   "metadata": {},
   "outputs": [
    {
     "name": "stdout",
     "output_type": "stream",
     "text": [
      "R2 score: -2.13\n"
     ]
    }
   ],
   "source": [
    "regr = linear_model.LinearRegression()\n",
    "\n",
    "# Train the model using the training sets\n",
    "regr.fit(X_train, Y_train)\n",
    "# Make predictions using the validation set\n",
    "Y_pred = regr.predict(X_val)\n",
    "\n",
    "print('R2 score: %.2f' % r2_score(Y_val, Y_pred))"
   ]
  },
  {
   "cell_type": "markdown",
   "metadata": {},
   "source": [
    "### XgBoost"
   ]
  },
  {
   "cell_type": "code",
   "execution_count": 21,
   "metadata": {},
   "outputs": [],
   "source": [
    "dtrain = xgb.DMatrix(X_train)\n",
    "dtest = xgb.DMatrix(X_test)"
   ]
  },
  {
   "cell_type": "code",
   "execution_count": 22,
   "metadata": {},
   "outputs": [],
   "source": [
    "# Alpha (regularization strength) of LASSO regression\n",
    "lasso_eps = 0.0001\n",
    "lasso_nalpha=20\n",
    "lasso_iter=5000\n",
    "# Min and max degree of polynomials features to consider\n",
    "degree_min = 2\n",
    "degree_max = 8\n",
    "# Test/train split\n",
    "# Make a pipeline model with polynomial transformation and LASSO regression with cross-validation, run it for increasing degree of polynomial (complexity of the model)\n",
    "# for degree in range(degree_min,degree_max+1):\n",
    "#     model = make_pipeline(PolynomialFeatures(degree, interaction_only=False), LassoCV(eps=lasso_eps,n_alphas=lasso_nalpha,max_iter=lasso_iter,\n",
    "# normalize=True,cv=5))\n",
    "#     model.fit(X_train,Y_train)\n",
    "#     Y_pred = np.array(model.predict(X_test))\n",
    "    \n",
    "#     print('R2 score: %.2f' % r2_score(Y_test, Y_pred))\n",
    "\n",
    "    "
   ]
  },
  {
   "cell_type": "code",
   "execution_count": null,
   "metadata": {
    "collapsed": true
   },
   "outputs": [],
   "source": []
  }
 ],
 "metadata": {
  "kernelspec": {
   "display_name": "Python 3",
   "language": "python",
   "name": "python3"
  },
  "language_info": {
   "codemirror_mode": {
    "name": "ipython",
    "version": 3
   },
   "file_extension": ".py",
   "mimetype": "text/x-python",
   "name": "python",
   "nbconvert_exporter": "python",
   "pygments_lexer": "ipython3",
   "version": "3.6.3"
  }
 },
 "nbformat": 4,
 "nbformat_minor": 2
}
