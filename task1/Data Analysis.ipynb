{
 "cells": [
  {
   "cell_type": "code",
   "execution_count": 305,
   "metadata": {
    "collapsed": true
   },
   "outputs": [],
   "source": [
    "import numpy as np\n",
    "import pandas as pd\n",
    "import pickle as pkl\n",
    "import matplotlib.pyplot as plt\n",
    "%matplotlib inline\n",
    "\n",
    "from sklearn import preprocessing, linear_model\n",
    "from sklearn.model_selection import train_test_split\n",
    "from sklearn.metrics import mean_squared_error, r2_score\n",
    "from sklearn.feature_selection import VarianceThreshold\n",
    "\n",
    "from sklearn.preprocessing import PolynomialFeatures\n",
    "# Import Linear Regression and a regularized regression function\n",
    "from sklearn.linear_model import LinearRegression\n",
    "from sklearn.linear_model import LassoCV\n",
    "from sklearn.decomposition import PCA\n",
    "# Finally, import function to make a machine learning pipeline\n",
    "from sklearn.pipeline import make_pipeline"
   ]
  },
  {
   "cell_type": "markdown",
   "metadata": {},
   "source": [
    "## Load Data"
   ]
  },
  {
   "cell_type": "code",
   "execution_count": 306,
   "metadata": {},
   "outputs": [
    {
     "name": "stdout",
     "output_type": "stream",
     "text": [
      "Training Data:(1212, 888)\n",
      "Test Data:(776, 888)\n"
     ]
    },
    {
     "data": {
      "text/html": [
       "<div>\n",
       "<style>\n",
       "    .dataframe thead tr:only-child th {\n",
       "        text-align: right;\n",
       "    }\n",
       "\n",
       "    .dataframe thead th {\n",
       "        text-align: left;\n",
       "    }\n",
       "\n",
       "    .dataframe tbody tr th {\n",
       "        vertical-align: top;\n",
       "    }\n",
       "</style>\n",
       "<table border=\"1\" class=\"dataframe\">\n",
       "  <thead>\n",
       "    <tr style=\"text-align: right;\">\n",
       "      <th></th>\n",
       "      <th>id</th>\n",
       "      <th>y</th>\n",
       "    </tr>\n",
       "  </thead>\n",
       "  <tbody>\n",
       "    <tr>\n",
       "      <th>0</th>\n",
       "      <td>0.0</td>\n",
       "      <td>75.0</td>\n",
       "    </tr>\n",
       "    <tr>\n",
       "      <th>1</th>\n",
       "      <td>1.0</td>\n",
       "      <td>76.0</td>\n",
       "    </tr>\n",
       "  </tbody>\n",
       "</table>\n",
       "</div>"
      ],
      "text/plain": [
       "    id     y\n",
       "0  0.0  75.0\n",
       "1  1.0  76.0"
      ]
     },
     "execution_count": 306,
     "metadata": {},
     "output_type": "execute_result"
    }
   ],
   "source": [
    "X = pd.read_csv('data/X_train.csv')\n",
    "Y = pd.read_csv('data/Y_train.csv')\n",
    "X_test = pd.read_csv('data/X_test.csv')\n",
    "\n",
    "print(\"Training Data:{}\".format(X.shape))\n",
    "print(\"Test Data:{}\".format(X_test.shape))\n",
    "\n",
    "Y.head(2)\n"
   ]
  },
  {
   "cell_type": "code",
   "execution_count": 307,
   "metadata": {},
   "outputs": [
    {
     "data": {
      "text/plain": [
       "count    1212.000000\n",
       "mean       69.763201\n",
       "std         9.941656\n",
       "min        42.000000\n",
       "25%        64.000000\n",
       "50%        70.000000\n",
       "75%        76.000000\n",
       "max        96.000000\n",
       "Name: y, dtype: float64"
      ]
     },
     "execution_count": 307,
     "metadata": {},
     "output_type": "execute_result"
    }
   ],
   "source": [
    "Y['y'].describe()"
   ]
  },
  {
   "cell_type": "code",
   "execution_count": 308,
   "metadata": {},
   "outputs": [
    {
     "data": {
      "text/html": [
       "<div>\n",
       "<style>\n",
       "    .dataframe thead tr:only-child th {\n",
       "        text-align: right;\n",
       "    }\n",
       "\n",
       "    .dataframe thead th {\n",
       "        text-align: left;\n",
       "    }\n",
       "\n",
       "    .dataframe tbody tr th {\n",
       "        vertical-align: top;\n",
       "    }\n",
       "</style>\n",
       "<table border=\"1\" class=\"dataframe\">\n",
       "  <thead>\n",
       "    <tr style=\"text-align: right;\">\n",
       "      <th></th>\n",
       "      <th>id</th>\n",
       "      <th>x0</th>\n",
       "      <th>x1</th>\n",
       "      <th>x2</th>\n",
       "      <th>x3</th>\n",
       "      <th>x4</th>\n",
       "      <th>x5</th>\n",
       "      <th>x6</th>\n",
       "      <th>x7</th>\n",
       "      <th>x8</th>\n",
       "      <th>...</th>\n",
       "      <th>x877</th>\n",
       "      <th>x878</th>\n",
       "      <th>x879</th>\n",
       "      <th>x880</th>\n",
       "      <th>x881</th>\n",
       "      <th>x882</th>\n",
       "      <th>x883</th>\n",
       "      <th>x884</th>\n",
       "      <th>x885</th>\n",
       "      <th>x886</th>\n",
       "    </tr>\n",
       "  </thead>\n",
       "  <tbody>\n",
       "    <tr>\n",
       "      <th>count</th>\n",
       "      <td>1212.000000</td>\n",
       "      <td>1122.000000</td>\n",
       "      <td>1.140000e+03</td>\n",
       "      <td>1.132000e+03</td>\n",
       "      <td>1123.000000</td>\n",
       "      <td>1133.000000</td>\n",
       "      <td>1126.000000</td>\n",
       "      <td>1141.000000</td>\n",
       "      <td>1122.000000</td>\n",
       "      <td>1122.000000</td>\n",
       "      <td>...</td>\n",
       "      <td>1.127000e+03</td>\n",
       "      <td>1.127000e+03</td>\n",
       "      <td>1.132000e+03</td>\n",
       "      <td>1127.000000</td>\n",
       "      <td>1.125000e+03</td>\n",
       "      <td>1127.000000</td>\n",
       "      <td>1148.000000</td>\n",
       "      <td>1126.000000</td>\n",
       "      <td>1123.000000</td>\n",
       "      <td>1111.000000</td>\n",
       "    </tr>\n",
       "    <tr>\n",
       "      <th>mean</th>\n",
       "      <td>605.500000</td>\n",
       "      <td>7300.504957</td>\n",
       "      <td>1.003125e+06</td>\n",
       "      <td>1.051614e+06</td>\n",
       "      <td>1049.844772</td>\n",
       "      <td>105.047681</td>\n",
       "      <td>203511.156265</td>\n",
       "      <td>1050.735880</td>\n",
       "      <td>341958.172245</td>\n",
       "      <td>104916.372111</td>\n",
       "      <td>...</td>\n",
       "      <td>3.825322e+11</td>\n",
       "      <td>1.003145e+06</td>\n",
       "      <td>-5.025956e+05</td>\n",
       "      <td>1001.891614</td>\n",
       "      <td>9.995905e+05</td>\n",
       "      <td>3732.365716</td>\n",
       "      <td>100.659348</td>\n",
       "      <td>1617.956555</td>\n",
       "      <td>10505.966555</td>\n",
       "      <td>65052.578569</td>\n",
       "    </tr>\n",
       "    <tr>\n",
       "      <th>std</th>\n",
       "      <td>350.018571</td>\n",
       "      <td>1379.891266</td>\n",
       "      <td>1.001817e+05</td>\n",
       "      <td>2.818085e+04</td>\n",
       "      <td>28.475255</td>\n",
       "      <td>2.823009</td>\n",
       "      <td>29841.633207</td>\n",
       "      <td>28.623527</td>\n",
       "      <td>58820.438523</td>\n",
       "      <td>2755.013692</td>\n",
       "      <td>...</td>\n",
       "      <td>4.347959e+11</td>\n",
       "      <td>9.594847e+04</td>\n",
       "      <td>8.608874e+04</td>\n",
       "      <td>100.410174</td>\n",
       "      <td>9.680491e+04</td>\n",
       "      <td>725.532171</td>\n",
       "      <td>9.336065</td>\n",
       "      <td>401.791865</td>\n",
       "      <td>290.648021</td>\n",
       "      <td>0.029221</td>\n",
       "    </tr>\n",
       "    <tr>\n",
       "      <th>min</th>\n",
       "      <td>0.000000</td>\n",
       "      <td>1030.502715</td>\n",
       "      <td>6.716345e+05</td>\n",
       "      <td>1.000037e+06</td>\n",
       "      <td>1000.062471</td>\n",
       "      <td>100.033879</td>\n",
       "      <td>63202.600024</td>\n",
       "      <td>1000.134779</td>\n",
       "      <td>92365.078214</td>\n",
       "      <td>100016.602565</td>\n",
       "      <td>...</td>\n",
       "      <td>-5.083882e+11</td>\n",
       "      <td>7.186635e+05</td>\n",
       "      <td>-1.110029e+06</td>\n",
       "      <td>643.042857</td>\n",
       "      <td>6.895354e+05</td>\n",
       "      <td>451.131089</td>\n",
       "      <td>65.692019</td>\n",
       "      <td>458.289896</td>\n",
       "      <td>10001.346875</td>\n",
       "      <td>65052.528022</td>\n",
       "    </tr>\n",
       "    <tr>\n",
       "      <th>25%</th>\n",
       "      <td>302.750000</td>\n",
       "      <td>6496.988432</td>\n",
       "      <td>9.409699e+05</td>\n",
       "      <td>1.028118e+06</td>\n",
       "      <td>1025.913567</td>\n",
       "      <td>102.724769</td>\n",
       "      <td>186609.583069</td>\n",
       "      <td>1026.464126</td>\n",
       "      <td>309182.739540</td>\n",
       "      <td>102687.100342</td>\n",
       "      <td>...</td>\n",
       "      <td>1.578603e+11</td>\n",
       "      <td>9.385117e+05</td>\n",
       "      <td>-5.475966e+05</td>\n",
       "      <td>933.591537</td>\n",
       "      <td>9.348641e+05</td>\n",
       "      <td>3297.203036</td>\n",
       "      <td>94.515998</td>\n",
       "      <td>1360.553119</td>\n",
       "      <td>10249.981685</td>\n",
       "      <td>65052.553207</td>\n",
       "    </tr>\n",
       "    <tr>\n",
       "      <th>50%</th>\n",
       "      <td>605.500000</td>\n",
       "      <td>7381.752216</td>\n",
       "      <td>1.003238e+06</td>\n",
       "      <td>1.052406e+06</td>\n",
       "      <td>1050.174694</td>\n",
       "      <td>105.023063</td>\n",
       "      <td>201709.971057</td>\n",
       "      <td>1051.399190</td>\n",
       "      <td>337308.178918</td>\n",
       "      <td>104861.600927</td>\n",
       "      <td>...</td>\n",
       "      <td>2.758197e+11</td>\n",
       "      <td>1.001974e+06</td>\n",
       "      <td>-4.965350e+05</td>\n",
       "      <td>1001.295903</td>\n",
       "      <td>9.989761e+05</td>\n",
       "      <td>3768.931107</td>\n",
       "      <td>100.672131</td>\n",
       "      <td>1604.528424</td>\n",
       "      <td>10505.538263</td>\n",
       "      <td>65052.579678</td>\n",
       "    </tr>\n",
       "    <tr>\n",
       "      <th>75%</th>\n",
       "      <td>908.250000</td>\n",
       "      <td>8153.767104</td>\n",
       "      <td>1.070372e+06</td>\n",
       "      <td>1.075329e+06</td>\n",
       "      <td>1074.864998</td>\n",
       "      <td>107.391464</td>\n",
       "      <td>220981.402036</td>\n",
       "      <td>1075.166305</td>\n",
       "      <td>371797.754187</td>\n",
       "      <td>107160.482832</td>\n",
       "      <td>...</td>\n",
       "      <td>4.867297e+11</td>\n",
       "      <td>1.063238e+06</td>\n",
       "      <td>-4.560057e+05</td>\n",
       "      <td>1069.927335</td>\n",
       "      <td>1.064618e+06</td>\n",
       "      <td>4179.602230</td>\n",
       "      <td>106.809319</td>\n",
       "      <td>1861.784028</td>\n",
       "      <td>10763.810688</td>\n",
       "      <td>65052.603107</td>\n",
       "    </tr>\n",
       "    <tr>\n",
       "      <th>max</th>\n",
       "      <td>1211.000000</td>\n",
       "      <td>13055.814408</td>\n",
       "      <td>1.316548e+06</td>\n",
       "      <td>1.099990e+06</td>\n",
       "      <td>1099.845375</td>\n",
       "      <td>110.048177</td>\n",
       "      <td>370398.522988</td>\n",
       "      <td>1099.997865</td>\n",
       "      <td>784817.830992</td>\n",
       "      <td>109991.914244</td>\n",
       "      <td>...</td>\n",
       "      <td>7.405700e+12</td>\n",
       "      <td>1.308895e+06</td>\n",
       "      <td>-1.400403e+05</td>\n",
       "      <td>1323.073354</td>\n",
       "      <td>1.276136e+06</td>\n",
       "      <td>6781.164024</td>\n",
       "      <td>126.678078</td>\n",
       "      <td>3745.022165</td>\n",
       "      <td>10999.908941</td>\n",
       "      <td>65052.627907</td>\n",
       "    </tr>\n",
       "  </tbody>\n",
       "</table>\n",
       "<p>8 rows × 888 columns</p>\n",
       "</div>"
      ],
      "text/plain": [
       "                id            x0            x1            x2           x3  \\\n",
       "count  1212.000000   1122.000000  1.140000e+03  1.132000e+03  1123.000000   \n",
       "mean    605.500000   7300.504957  1.003125e+06  1.051614e+06  1049.844772   \n",
       "std     350.018571   1379.891266  1.001817e+05  2.818085e+04    28.475255   \n",
       "min       0.000000   1030.502715  6.716345e+05  1.000037e+06  1000.062471   \n",
       "25%     302.750000   6496.988432  9.409699e+05  1.028118e+06  1025.913567   \n",
       "50%     605.500000   7381.752216  1.003238e+06  1.052406e+06  1050.174694   \n",
       "75%     908.250000   8153.767104  1.070372e+06  1.075329e+06  1074.864998   \n",
       "max    1211.000000  13055.814408  1.316548e+06  1.099990e+06  1099.845375   \n",
       "\n",
       "                x4             x5           x6             x7             x8  \\\n",
       "count  1133.000000    1126.000000  1141.000000    1122.000000    1122.000000   \n",
       "mean    105.047681  203511.156265  1050.735880  341958.172245  104916.372111   \n",
       "std       2.823009   29841.633207    28.623527   58820.438523    2755.013692   \n",
       "min     100.033879   63202.600024  1000.134779   92365.078214  100016.602565   \n",
       "25%     102.724769  186609.583069  1026.464126  309182.739540  102687.100342   \n",
       "50%     105.023063  201709.971057  1051.399190  337308.178918  104861.600927   \n",
       "75%     107.391464  220981.402036  1075.166305  371797.754187  107160.482832   \n",
       "max     110.048177  370398.522988  1099.997865  784817.830992  109991.914244   \n",
       "\n",
       "           ...               x877          x878          x879         x880  \\\n",
       "count      ...       1.127000e+03  1.127000e+03  1.132000e+03  1127.000000   \n",
       "mean       ...       3.825322e+11  1.003145e+06 -5.025956e+05  1001.891614   \n",
       "std        ...       4.347959e+11  9.594847e+04  8.608874e+04   100.410174   \n",
       "min        ...      -5.083882e+11  7.186635e+05 -1.110029e+06   643.042857   \n",
       "25%        ...       1.578603e+11  9.385117e+05 -5.475966e+05   933.591537   \n",
       "50%        ...       2.758197e+11  1.001974e+06 -4.965350e+05  1001.295903   \n",
       "75%        ...       4.867297e+11  1.063238e+06 -4.560057e+05  1069.927335   \n",
       "max        ...       7.405700e+12  1.308895e+06 -1.400403e+05  1323.073354   \n",
       "\n",
       "               x881         x882         x883         x884          x885  \\\n",
       "count  1.125000e+03  1127.000000  1148.000000  1126.000000   1123.000000   \n",
       "mean   9.995905e+05  3732.365716   100.659348  1617.956555  10505.966555   \n",
       "std    9.680491e+04   725.532171     9.336065   401.791865    290.648021   \n",
       "min    6.895354e+05   451.131089    65.692019   458.289896  10001.346875   \n",
       "25%    9.348641e+05  3297.203036    94.515998  1360.553119  10249.981685   \n",
       "50%    9.989761e+05  3768.931107   100.672131  1604.528424  10505.538263   \n",
       "75%    1.064618e+06  4179.602230   106.809319  1861.784028  10763.810688   \n",
       "max    1.276136e+06  6781.164024   126.678078  3745.022165  10999.908941   \n",
       "\n",
       "               x886  \n",
       "count   1111.000000  \n",
       "mean   65052.578569  \n",
       "std        0.029221  \n",
       "min    65052.528022  \n",
       "25%    65052.553207  \n",
       "50%    65052.579678  \n",
       "75%    65052.603107  \n",
       "max    65052.627907  \n",
       "\n",
       "[8 rows x 888 columns]"
      ]
     },
     "execution_count": 308,
     "metadata": {},
     "output_type": "execute_result"
    }
   ],
   "source": [
    "X.describe()"
   ]
  },
  {
   "cell_type": "markdown",
   "metadata": {},
   "source": [
    "## Preprocessing"
   ]
  },
  {
   "cell_type": "markdown",
   "metadata": {},
   "source": [
    "### Replace missing values: "
   ]
  },
  {
   "cell_type": "code",
   "execution_count": 309,
   "metadata": {},
   "outputs": [
    {
     "name": "stdout",
     "output_type": "stream",
     "text": [
      "Missing entries in training data across all features:  77121\n",
      "Missing entries in test data across all features:  46382\n"
     ]
    }
   ],
   "source": [
    "print(\"Missing entries in training data across all features: \",X.isnull().sum().sum())\n",
    "X[X.x0.isnull()].head(5)\n",
    "\n",
    "print(\"Missing entries in test data across all features: \",X_test.isnull().sum().sum())"
   ]
  },
  {
   "cell_type": "code",
   "execution_count": 310,
   "metadata": {},
   "outputs": [
    {
     "name": "stdout",
     "output_type": "stream",
     "text": [
      "0\n",
      "0\n"
     ]
    }
   ],
   "source": [
    "X = X.interpolate(method = 'nearest').ffill().bfill()\n",
    "X_test = X_test.interpolate(method = 'nearest').ffill().bfill()\n",
    "print(X.isnull().sum().sum())\n",
    "print(X_test.isnull().sum().sum())"
   ]
  },
  {
   "cell_type": "markdown",
   "metadata": {},
   "source": [
    "### Data normalization"
   ]
  },
  {
   "cell_type": "code",
   "execution_count": 311,
   "metadata": {
    "scrolled": true
   },
   "outputs": [],
   "source": [
    "# Get column names first\n",
    "#names = X.columns\n",
    "# Create the Scaler object\n",
    "#scaler = preprocessing.StandardScaler()\n",
    "# Fit your data on the scaler object\n",
    "#X_normalized = scaler.fit_transform(X)\n",
    "#X_test_normalized = scaler.transform(X_test)"
   ]
  },
  {
   "cell_type": "code",
   "execution_count": 312,
   "metadata": {
    "collapsed": true
   },
   "outputs": [],
   "source": [
    "X_normalized = preprocessing.normalize(X)\n",
    "X_test_normalized = preprocessing.normalize(X_test)"
   ]
  },
  {
   "cell_type": "markdown",
   "metadata": {},
   "source": [
    "## Training / Validation Spilt"
   ]
  },
  {
   "cell_type": "code",
   "execution_count": 313,
   "metadata": {},
   "outputs": [
    {
     "name": "stdout",
     "output_type": "stream",
     "text": [
      "X_train: (969, 888)\n",
      "X_val: (243, 888)\n"
     ]
    }
   ],
   "source": [
    "# Using normalized X here!\n",
    "X_train, X_val, Y_train, Y_val = train_test_split(X_normalized, Y, test_size=0.2, random_state=42)\n",
    "print(\"X_train: {}\".format(X_train.shape))\n",
    "print(\"X_val: {}\".format(X_val.shape))\n",
    "\n"
   ]
  },
  {
   "cell_type": "markdown",
   "metadata": {},
   "source": [
    "## Feature Selection"
   ]
  },
  {
   "cell_type": "markdown",
   "metadata": {},
   "source": [
    "### Remove features with low variance"
   ]
  },
  {
   "cell_type": "code",
   "execution_count": 314,
   "metadata": {},
   "outputs": [
    {
     "name": "stdout",
     "output_type": "stream",
     "text": [
      "initial shape of X_train:(969, 888)\n",
      "initial shape of X_val:(243, 888)\n",
      "initial shape of X_test:(776, 888)\n",
      "(888,)\n",
      "new shape of X_train:(969, 884)\n",
      "new shape of X_val:(243, 884)\n",
      "new shape of X_test:(776, 884)\n"
     ]
    }
   ],
   "source": [
    "print(\"initial shape of X_train:{}\".format(X_train.shape))\n",
    "print(\"initial shape of X_val:{}\".format(X_val.shape))\n",
    "print(\"initial shape of X_test:{}\".format(X_test_normalized.shape))\n",
    "\n",
    "selector = VarianceThreshold()\n",
    "selector.fit(X_train)\n",
    "\n",
    "X_train = selector.transform(X_train)\n",
    "indices_retained = selector.get_support(indices=False)\n",
    "print(indices_retained.shape)\n",
    "# need to convert X_val to pandas dataframe to use .loc to select features\n",
    "X_val_df = (pd.DataFrame(data=X_val))\n",
    "X_val = X_val_df.loc[:,indices_retained]\n",
    "X_test_normalized_df = pd.DataFrame(data=X_test_normalized)\n",
    "X_test_normalized = X_test_normalized_df.loc[:,indices_retained]\n",
    "\n",
    "print(\"new shape of X_train:{}\".format(X_train.shape))\n",
    "print(\"new shape of X_val:{}\".format(X_val.shape))\n",
    "print(\"new shape of X_test:{}\".format(X_test_normalized.shape))\n"
   ]
  },
  {
   "cell_type": "markdown",
   "metadata": {},
   "source": [
    "### Remove features which highly correlate with other features"
   ]
  },
  {
   "cell_type": "code",
   "execution_count": 315,
   "metadata": {},
   "outputs": [
    {
     "name": "stdout",
     "output_type": "stream",
     "text": [
      "initial shape of X_train:(969, 884)\n",
      "initial shape of X_val:(243, 884)\n",
      "initial shape of X_test:(776, 884)\n",
      "new shape of X_train:(969, 13)\n",
      "new shape of X_val:(243, 13)\n",
      "new shape of X_test:(776, 13)\n"
     ]
    }
   ],
   "source": [
    "print(\"initial shape of X_train:{}\".format(X_train.shape))\n",
    "print(\"initial shape of X_val:{}\".format(X_val.shape))\n",
    "print(\"initial shape of X_test:{}\".format(X_test_normalized.shape))\n",
    "\n",
    "# Create correlation matrix\n",
    "X_train_df = (pd.DataFrame(data=X_train))\n",
    "corr_matrix = X_train_df.corr().abs()\n",
    "\n",
    "# Select upper triangle of correlation matrix\n",
    "upper = corr_matrix.where(np.triu(np.ones(corr_matrix.shape), k=1).astype(np.bool))\n",
    "\n",
    "# Find index of feature columns with correlation greater than 0.8\n",
    "to_drop = [column for column in upper.columns if any(upper[column] > 0.8)]\n",
    "\n",
    "# Drop features \n",
    "X_train = X_train_df.drop(X_train_df.columns[to_drop], axis=1)\n",
    "X_val = X_val.drop(X_val.columns[to_drop], axis=1)\n",
    "X_test_normalized = X_test_normalized.drop(X_test_normalized.columns[to_drop], axis=1)\n",
    "\n",
    "print(\"new shape of X_train:{}\".format(X_train.shape))\n",
    "print(\"new shape of X_val:{}\".format(X_val.shape))\n",
    "print(\"new shape of X_test:{}\".format(X_test_normalized.shape))\n",
    "\n"
   ]
  },
  {
   "cell_type": "markdown",
   "metadata": {},
   "source": [
    "### PCA"
   ]
  },
  {
   "cell_type": "code",
   "execution_count": 316,
   "metadata": {},
   "outputs": [
    {
     "name": "stdout",
     "output_type": "stream",
     "text": [
      "13\n"
     ]
    },
    {
     "data": {
      "image/png": "[encoded data removed]",
      "text/plain": [
       "<matplotlib.figure.Figure at 0x1a153ac2e8>"
      ]
     },
     "metadata": {},
     "output_type": "display_data"
    }
   ],
   "source": [
    "n_columns = X_train.shape[1]\n",
    "print(n_columns)\n",
    "pca = PCA(n_components = n_columns)\n",
    "pca.fit(X_train)\n",
    "components = np.linspace(1, n_columns, n_columns)\n",
    "explained_var = np.zeros(n_columns)\n",
    "explained_var[0] = pca.explained_variance_[0]\n",
    "for i in range(1,n_columns):\n",
    "    explained_var[i-1] = explained_var[i-2] + pca.explained_variance_[i-1]\n",
    "\n",
    "plt.plot(components,explained_var, label=\"Sum of explained variance\")\n",
    "plt.xlabel('number of PCA components')\n",
    "plt.ylabel('explained variance')\n",
    "plt.show()"
   ]
  },
  {
   "cell_type": "markdown",
   "metadata": {},
   "source": [
    "## Algorithm"
   ]
  },
  {
   "cell_type": "code",
   "execution_count": 317,
   "metadata": {},
   "outputs": [
    {
     "name": "stdout",
     "output_type": "stream",
     "text": [
      "R2 score: 0.48\n"
     ]
    }
   ],
   "source": [
    "regr = linear_model.LinearRegression()\n",
    "\n",
    "# Train the model using the training sets\n",
    "regr.fit(X_train, Y_train)\n",
    "# Make predictions using the validation set\n",
    "Y_pred = regr.predict(X_val)\n",
    "\n",
    "print('R2 score: %.2f' % r2_score(Y_val, Y_pred))"
   ]
  },
  {
   "cell_type": "code",
   "execution_count": 318,
   "metadata": {},
   "outputs": [],
   "source": [
    "# Alpha (regularization strength) of LASSO regression\n",
    "lasso_eps = 0.0001\n",
    "lasso_nalpha=20\n",
    "lasso_iter=5000\n",
    "# Min and max degree of polynomials features to consider\n",
    "degree_min = 2\n",
    "degree_max = 8\n",
    "# Test/train split\n",
    "# Make a pipeline model with polynomial transformation and LASSO regression with cross-validation, run it for increasing degree of polynomial (complexity of the model)\n",
    "# for degree in range(degree_min,degree_max+1):\n",
    "#     model = make_pipeline(PolynomialFeatures(degree, interaction_only=False), LassoCV(eps=lasso_eps,n_alphas=lasso_nalpha,max_iter=lasso_iter,\n",
    "# normalize=True,cv=5))\n",
    "#     model.fit(X_train,Y_train)\n",
    "#     Y_pred = np.array(model.predict(X_test))\n",
    "    \n",
    "#     print('R2 score: %.2f' % r2_score(Y_test, Y_pred))\n",
    "\n",
    "    "
   ]
  },
  {
   "cell_type": "code",
   "execution_count": null,
   "metadata": {
    "collapsed": true
   },
   "outputs": [],
   "source": []
  }
 ],
 "metadata": {
  "kernelspec": {
   "display_name": "Python 3",
   "language": "python",
   "name": "python3"
  },
  "language_info": {
   "codemirror_mode": {
    "name": "ipython",
    "version": 3
   },
   "file_extension": ".py",
   "mimetype": "text/x-python",
   "name": "python",
   "nbconvert_exporter": "python",
   "pygments_lexer": "ipython3",
   "version": "3.6.3"
  }
 },
 "nbformat": 4,
 "nbformat_minor": 2
}
